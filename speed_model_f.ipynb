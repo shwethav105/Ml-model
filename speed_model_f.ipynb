{
  "nbformat": 4,
  "nbformat_minor": 0,
  "metadata": {
    "colab": {
      "name": "speed_model_f.ipynb",
      "provenance": [],
      "collapsed_sections": []
    },
    "kernelspec": {
      "name": "python3",
      "display_name": "Python 3"
    },
    "language_info": {
      "name": "python"
    }
  },
  "cells": [
    {
      "cell_type": "code",
      "execution_count": 1,
      "metadata": {
        "colab": {
          "base_uri": "https://localhost:8080/"
        },
        "id": "zF34pUx2GQac",
        "outputId": "5cc32f6d-8100-4c5c-cb4f-7a259159d8e2"
      },
      "outputs": [
        {
          "output_type": "stream",
          "name": "stdout",
          "text": [
            "Mounted at /gdrive\n"
          ]
        }
      ],
      "source": [
        "from google.colab import drive\n",
        "drive.mount('/gdrive')"
      ]
    },
    {
      "cell_type": "code",
      "source": [
        "from google.colab import drive\n",
        "drive.mount('/content/drive')"
      ],
      "metadata": {
        "colab": {
          "base_uri": "https://localhost:8080/"
        },
        "id": "5KH1RSUfGf4r",
        "outputId": "852a74cc-6015-4ab9-bf03-287023e7cefb"
      },
      "execution_count": 2,
      "outputs": [
        {
          "output_type": "stream",
          "name": "stdout",
          "text": [
            "Mounted at /content/drive\n"
          ]
        }
      ]
    },
    {
      "cell_type": "code",
      "source": [
        "path = '/content/drive/MyDrive/zip'"
      ],
      "metadata": {
        "id": "GF2O9DAGGnZW"
      },
      "execution_count": 3,
      "outputs": []
    },
    {
      "cell_type": "code",
      "source": [
        "! pip install pygeohash"
      ],
      "metadata": {
        "colab": {
          "base_uri": "https://localhost:8080/"
        },
        "id": "fGOXHy9uGsQz",
        "outputId": "1e819941-4175-42e2-dd20-298f9122c5a0"
      },
      "execution_count": 4,
      "outputs": [
        {
          "output_type": "stream",
          "name": "stdout",
          "text": [
            "Looking in indexes: https://pypi.org/simple, https://us-python.pkg.dev/colab-wheels/public/simple/\n",
            "Collecting pygeohash\n",
            "  Downloading pygeohash-1.2.0.tar.gz (5.0 kB)\n",
            "Building wheels for collected packages: pygeohash\n",
            "  Building wheel for pygeohash (setup.py) ... \u001b[?25l\u001b[?25hdone\n",
            "  Created wheel for pygeohash: filename=pygeohash-1.2.0-py2.py3-none-any.whl size=6167 sha256=a166df6eaac5135872d88d504c5e7e4882a13c6d9522699b80f1b6ff1544871f\n",
            "  Stored in directory: /root/.cache/pip/wheels/e2/ed/86/be7141d743cfb4aebac76406187154cd78fe9e6535d872187a\n",
            "Successfully built pygeohash\n",
            "Installing collected packages: pygeohash\n",
            "Successfully installed pygeohash-1.2.0\n"
          ]
        }
      ]
    },
    {
      "cell_type": "code",
      "source": [
        "import numpy as np\n",
        "import pandas as pd\n",
        "from pandas import*\n",
        "import datetime\n",
        "import glob\n",
        "\n",
        "# Data Visualization libraries\n",
        "import matplotlib.pyplot as plt\n",
        "import seaborn as sns\n",
        "%matplotlib inline\n",
        "\n",
        "# Data pre-processing libraries\n",
        "from sklearn.preprocessing import LabelEncoder\n",
        "import pygeohash as gh"
      ],
      "metadata": {
        "id": "gWuwl1kEGwFP"
      },
      "execution_count": 5,
      "outputs": []
    },
    {
      "cell_type": "code",
      "source": [
        "import os, zipfile\n",
        "\n",
        "dir_name = '/content/drive/MyDrive/zip'\n",
        "\n",
        "extension = \".zip\"\n",
        "\n",
        "\n",
        "\n",
        "os.chdir('/content/drive/MyDrive/zip') # change directory from working dir to dir with files\n",
        "\n",
        "for item in os.listdir(dir_name): \n",
        "  if item.endswith(extension): \n",
        "    file_name = os.path.abspath(item) # get full path of files\n",
        "    zip_ref = zipfile.ZipFile(file_name) # create zipfile object\n",
        "    zip_ref.extractall('/content/drive/MyDrive/zip/csv1') # extract file to dir\n",
        "\n",
        "zip_ref.close() # close file\n",
        "\n",
        "#os.remove(file_name) # de"
      ],
      "metadata": {
        "id": "FFI8KvoMG3dw"
      },
      "execution_count": 6,
      "outputs": []
    },
    {
      "cell_type": "code",
      "source": [
        "path =  '/content/drive/MyDrive/zip'"
      ],
      "metadata": {
        "id": "IDnjdn4eHt9J"
      },
      "execution_count": 7,
      "outputs": []
    },
    {
      "cell_type": "code",
      "source": [
        "file_list = glob.glob(path + '/csv1/*.*')\n",
        "print(file_list)"
      ],
      "metadata": {
        "colab": {
          "base_uri": "https://localhost:8080/"
        },
        "id": "OxnmbJPHHxoG",
        "outputId": "b609b4c3-4196-4eef-f1ae-6273ca27b95d"
      },
      "execution_count": 8,
      "outputs": [
        {
          "output_type": "stream",
          "name": "stdout",
          "text": [
            "['/content/drive/MyDrive/zip/csv1/AIS_2022_01_01.csv', '/content/drive/MyDrive/zip/csv1/AIS_2022_01_02.csv', '/content/drive/MyDrive/zip/csv1/AIS_2022_01_03.csv', '/content/drive/MyDrive/zip/csv1/AIS_2022_01_04.csv', '/content/drive/MyDrive/zip/csv1/AIS_2022_01_06.csv', '/content/drive/MyDrive/zip/csv1/AIS_2022_01_05.csv']\n"
          ]
        }
      ]
    },
    {
      "cell_type": "code",
      "source": [
        "my_list = []\n",
        "new_path = path + '/csv1/*.csv'\n",
        "for file in glob.glob(new_path):\n",
        "  print(file)\n",
        "  a = pd.read_csv(file, encoding=\"ISO-8859-1\")\n",
        "  my_list.append(a)"
      ],
      "metadata": {
        "colab": {
          "base_uri": "https://localhost:8080/"
        },
        "id": "fdMLDHVoHy5e",
        "outputId": "fc94b295-d2d4-4d90-d356-f8721f87f75c"
      },
      "execution_count": 9,
      "outputs": [
        {
          "output_type": "stream",
          "name": "stdout",
          "text": [
            "/content/drive/MyDrive/zip/csv1/AIS_2022_01_01.csv\n",
            "/content/drive/MyDrive/zip/csv1/AIS_2022_01_02.csv\n",
            "/content/drive/MyDrive/zip/csv1/AIS_2022_01_03.csv\n",
            "/content/drive/MyDrive/zip/csv1/AIS_2022_01_04.csv\n",
            "/content/drive/MyDrive/zip/csv1/AIS_2022_01_06.csv\n",
            "/content/drive/MyDrive/zip/csv1/AIS_2022_01_05.csv\n"
          ]
        }
      ]
    },
    {
      "cell_type": "code",
      "source": [
        "def drop_missing_values(data):\n",
        "  data.isna().mean().round(4)*100\n",
        "  data.dropna(inplace=True)\n",
        "  data.isna().sum()\n",
        "  data.drop_duplicates()\n",
        "  "
      ],
      "metadata": {
        "id": "vwkaPMoOIRfw"
      },
      "execution_count": 13,
      "outputs": []
    },
    {
      "cell_type": "code",
      "source": [
        "def drop_unwanted_columns(data):\n",
        "  data.drop(columns=['Heading',\n",
        "       'VesselName', 'IMO', 'CallSign', 'Status', 'Length',\n",
        "       'Width', 'Draft', 'Cargo', 'TransceiverClass'], axis = 1, inplace=True)"
      ],
      "metadata": {
        "id": "97RQwdTlIY6W"
      },
      "execution_count": 16,
      "outputs": []
    },
    {
      "cell_type": "code",
      "source": [
        "def drop_invalid_mmsi(data):\n",
        "  \n",
        "  invalid_entries=[111111111,222222222,333333333,444444444,555555555,666666666,777777777,888888888,999999999, 123456789, 987654321]\n",
        "  invalid = data[data.MMSI.isin(invalid_entries)]\n",
        "  data.drop(invalid.index, axis=0, inplace=True)\n",
        "  #print(data)"
      ],
      "metadata": {
        "id": "YreogiDaIgDA"
      },
      "execution_count": 12,
      "outputs": []
    },
    {
      "cell_type": "code",
      "source": [
        "def drop_invalid_mmsi(data):\n",
        "  \n",
        "  invalid_entries=[111111111,222222222,333333333,444444444,555555555,666666666,777777777,888888888,999999999, 123456789, 987654321]\n",
        "  invalid = data[data.MMSI.isin(invalid_entries)]\n",
        "  data.drop(invalid.index, axis=0, inplace=True)\n",
        "  #print(data)"
      ],
      "metadata": {
        "id": "9Pbwo9adIuYu"
      },
      "execution_count": 17,
      "outputs": []
    },
    {
      "cell_type": "code",
      "source": [
        "def invalid_mmsi_length(data):\n",
        "  data['MMSI_length']= data['MMSI'].map(str).apply(len)\n",
        "  data = data[data['MMSI_length']==9]\n",
        "  data.drop('MMSI_length', axis=1, inplace=True)"
      ],
      "metadata": {
        "id": "jht0l8bmIxsr"
      },
      "execution_count": 18,
      "outputs": []
    },
    {
      "cell_type": "code",
      "source": [
        "def zero_sog(data):\n",
        "  index_names=data[data['SOG']==0.0].index\n",
        "  data.drop(index_names, inplace=True)"
      ],
      "metadata": {
        "id": "2tiyxlLQI3xY"
      },
      "execution_count": 19,
      "outputs": []
    },
    {
      "cell_type": "code",
      "source": [
        "def vesseltype_categories(data):\n",
        "  data.dropna(subset = [\"VesselType\"], axis = 0, inplace=True)\n",
        "  data['VesselType'] = data['VesselType'].apply(np.int64)\n",
        "  data[\"VesselType\"].replace({0: \"Not Available\", 30: \"Fishing\", 35:\"Military\", \n",
        "                          (1,2,3,4,5,6,7,8,9,10,11,12,13,14,15,16,17,18,19,20,23,24,25,26,27,28,29,33,34, \n",
        "                           38,39,40,41,42,43,44,45,46,47,48,49,50,51,53,54,55,56,57,58,59, 90,\n",
        "                           91,92,93,94,95,96,97,98,99):'Other',\n",
        "                          (60,61,62,63,64,65,66,67,68,69):'Passenger',\n",
        "                          (70,71,72,73,74,75,76,77,78,79):'Cargo',\n",
        "                          (36,37):'Pleasure Craft/Sailing',\n",
        "                          (80,81,82,83,84,85,86,87,88,89):'Tanker',\n",
        "                          (21,22,31,32,52):'Tug Tow'}, inplace=True)\n",
        "  label_encoder = LabelEncoder()\n",
        "  data['VesselType_labeled']=label_encoder.fit_transform(data['VesselType'])"
      ],
      "metadata": {
        "id": "WBrdqBHVI7Xr"
      },
      "execution_count": 20,
      "outputs": []
    },
    {
      "cell_type": "code",
      "source": [
        "def course_direction(data):\n",
        "  def categorize(data):\n",
        "    if data['COG']<22.5:\n",
        "       return 'N'\n",
        "    if data['COG']>=22.5 and data['COG']<67.5:\n",
        "      return 'NE'\n",
        "    if data['COG']>=67.5 and data['COG']<112.5:\n",
        "      return 'E'\n",
        "    if data['COG']>=112.5 and data['COG']<157.5:\n",
        "      return 'SE'\n",
        "    if data['COG']>=157.5 and data['COG']<202.5:\n",
        "      return 'S'\n",
        "    if data['COG']>=202.5 and data['COG']<247.5:\n",
        "      return 'SW'\n",
        "    if data['COG']>=247.5 and data['COG']<292.5:\n",
        "      return 'W'\n",
        "    if data['COG']>=292.5 and data['COG']<337.5:\n",
        "      return 'NW'\n",
        "    if data['COG']>=337.5:\n",
        "      return 'N'\n",
        "  data['COG_direction'] = data.apply(lambda data: categorize(data), axis=1)"
      ],
      "metadata": {
        "id": "13tTnXSWI9JH"
      },
      "execution_count": 21,
      "outputs": []
    },
    {
      "cell_type": "code",
      "source": [
        "def haversine(lat1, lon1, lat2, lon2, to_radians=True, earth_radius=6371000):\n",
        "  if to_radians:\n",
        "    lat1, lon1, lat2, lon2 = np.radians([lat1, lon1, lat2, lon2])\n",
        "  a = np.sin((lat2-lat1)/2.0)**2 + np.cos(lat1) * np.cos(lat2) * np.sin((lon2-lon1)/2.0)**2\n",
        "  return earth_radius * 2 * np.arcsin(np.sqrt(a))"
      ],
      "metadata": {
        "id": "vt1a5f4XJEjy"
      },
      "execution_count": 22,
      "outputs": []
    },
    {
      "cell_type": "code",
      "source": [
        "def apply_haversine(data):\n",
        "  data= data.sort_values(['MMSI', 'BaseDateTime'], ascending = True)\n",
        "  data['distance'] = np.concatenate(data.groupby('MMSI').apply(lambda x: haversine(x['LAT'], x['LON'], x['LAT'].shift(), x['LON'].shift())).values)\n",
        "  data['distance'] = data['distance'].fillna(0)\n",
        "  data['dist_diff'] = data['distance'].diff()\n",
        "  indexNames = data[ data['dist_diff'] <= 500 ].index # Get names of indexes for which column dist_diff has value less than or equal to 1\n",
        "  data.drop(indexNames , inplace=True) # Delete these row indexes from dataFrame\n",
        "  data['dist_diff'] = data['dist_diff'].fillna(0)"
      ],
      "metadata": {
        "id": "9lk4BhnYJHRI"
      },
      "execution_count": 23,
      "outputs": []
    },
    {
      "cell_type": "code",
      "source": [
        "def geohash(data):\n",
        "  data['geohash']=data.apply(lambda x: gh.encode(x.LAT, x.LON, precision=5), axis=1)"
      ],
      "metadata": {
        "id": "Av1Un6gEJI_4"
      },
      "execution_count": 24,
      "outputs": []
    },
    {
      "cell_type": "code",
      "source": [
        "def Eda(data):\n",
        "  drop_missing_values(data)\n",
        "  drop_unwanted_columns(data)\n",
        "  drop_invalid_mmsi(data)\n",
        "  zero_sog(data)\n",
        "  vesseltype_categories(data)\n",
        "  geohash(data)\n",
        "  course_direction(data)\n",
        "  apply_haversine(data)\n",
        "  print(data)\n",
        "\n",
        "\n",
        "def readFiles():  \n",
        "  length = len(my_list)\n",
        "  for i in range(length):\n",
        "    Eda(my_list[i])\n",
        "readFiles()"
      ],
      "metadata": {
        "colab": {
          "base_uri": "https://localhost:8080/"
        },
        "id": "eWx9Ai-FJMDo",
        "outputId": "e6e3fb0e-1ccc-4c05-ff94-795197d75854"
      },
      "execution_count": 25,
      "outputs": [
        {
          "output_type": "stream",
          "name": "stdout",
          "text": [
            "              MMSI         BaseDateTime       LAT        LON   SOG    COG  \\\n",
            "3        316005971  2022-01-01T00:00:06  46.50268  -84.35674   2.4  258.6   \n",
            "4        316004054  2022-01-01T00:00:07  46.50326  -84.37506   0.3   61.9   \n",
            "48       368038000  2022-01-01T00:00:08  48.52225 -122.61212   0.1  169.2   \n",
            "53       271046486  2022-01-01T00:00:04  37.67832  -74.47989  11.3  206.9   \n",
            "54       367712860  2022-01-01T00:00:08  47.53809 -122.32879   0.1  232.5   \n",
            "...            ...                  ...       ...        ...   ...    ...   \n",
            "7239746  372188000  2022-01-01T21:44:44  13.46064  144.66639   0.1  226.1   \n",
            "7239749  372188000  2022-01-01T22:05:44  13.46061  144.66644   0.1  181.1   \n",
            "7239750  372188000  2022-01-01T22:23:44  13.46064  144.66643   0.1  193.2   \n",
            "7239754  372188000  2022-01-01T23:23:44  13.46062  144.66645   0.1   57.6   \n",
            "7239755  372188000  2022-01-01T23:29:44  13.46063  144.66643   0.1   47.7   \n",
            "\n",
            "        VesselType  VesselType_labeled geohash COG_direction  \n",
            "3          Tug Tow                   7   f0k08             W  \n",
            "4          Tug Tow                   7   f07bx            NE  \n",
            "48         Fishing                   1   c28u1             S  \n",
            "53          Tanker                   6   dqen3            SW  \n",
            "54         Tug Tow                   7   c23n2            SW  \n",
            "...            ...                 ...     ...           ...  \n",
            "7239746      Cargo                   0   x4que            SW  \n",
            "7239749      Cargo                   0   x4que             S  \n",
            "7239750      Cargo                   0   x4que             S  \n",
            "7239754      Cargo                   0   x4que            NE  \n",
            "7239755      Cargo                   0   x4que            NE  \n",
            "\n",
            "[1088206 rows x 10 columns]\n",
            "              MMSI         BaseDateTime       LAT        LON   SOG    COG  \\\n",
            "4        310652000  2022-01-02T00:00:01  25.07868  -88.87412  14.8  105.4   \n",
            "10       258009000  2022-01-02T00:00:06  34.73442 -121.54736  12.6  335.1   \n",
            "14       366336000  2022-01-02T00:00:10  39.57824  -73.97645   3.1  261.1   \n",
            "38       371595000  2022-01-02T00:00:00  28.47512  -94.58613   0.3  352.4   \n",
            "40       368085790  2022-01-02T00:00:01  28.95078  -95.33643   0.1  316.4   \n",
            "...            ...                  ...       ...        ...   ...    ...   \n",
            "6644827  367049000  2022-01-02T20:29:17  13.45701  144.63761   0.1   95.0   \n",
            "6644828  367049000  2022-01-02T21:29:16  13.45798  144.63644   0.3  343.0   \n",
            "6644829  367049000  2022-01-02T21:59:16  13.45714  144.63715   0.1  142.4   \n",
            "6644844  366614000  2022-01-02T19:08:28  13.42576  144.66245   0.1  109.3   \n",
            "6644846  366614000  2022-01-02T19:41:28  13.42573  144.66243   0.1  135.3   \n",
            "\n",
            "        VesselType  VesselType_labeled geohash COG_direction  \n",
            "4           Tanker                   7   dh2y9             E  \n",
            "10           Cargo                   0   9q1td            NW  \n",
            "14           Other                   4   dr53h             W  \n",
            "38          Tanker                   7   9vh9z             N  \n",
            "40           Other                   4   9vhhw            NW  \n",
            "...            ...                 ...     ...           ...  \n",
            "6644827      Cargo                   0   x4que             E  \n",
            "6644828      Cargo                   0   x4que             N  \n",
            "6644829      Cargo                   0   x4que            SE  \n",
            "6644844      Other                   4   x4qu7             E  \n",
            "6644846      Other                   4   x4qu7            SE  \n",
            "\n",
            "[945146 rows x 10 columns]\n",
            "              MMSI         BaseDateTime       LAT        LON   SOG    COG  \\\n",
            "15       316029000  2022-01-03T00:00:09  42.04462  -81.29878   9.2   65.4   \n",
            "30       316003527  2022-01-03T00:00:19  49.12369 -123.18869   0.1  257.7   \n",
            "51       367760890  2022-01-03T00:00:02  26.06578  -80.11595   0.1  236.1   \n",
            "63       316023341  2022-01-03T00:00:06  46.92346  -85.46457  13.7  291.0   \n",
            "76       367578740  2022-01-03T00:00:00  33.57261 -125.04588  16.0   89.1   \n",
            "...            ...                  ...       ...        ...   ...    ...   \n",
            "6600755  510054000  2022-01-03T09:21:44  12.81066  143.89521  12.8  152.2   \n",
            "6600756  367049000  2022-01-03T21:47:16  13.45731  144.63691   1.0  308.0   \n",
            "6600757  367049000  2022-01-03T21:53:17  13.45782  144.63638   0.6  112.0   \n",
            "6600758  367049000  2022-01-03T22:11:16  13.45766  144.63654   0.5  109.8   \n",
            "6600760  367049000  2022-01-03T23:29:18  13.45750  144.63668   0.6  332.8   \n",
            "\n",
            "        VesselType  VesselType_labeled geohash COG_direction  \n",
            "15           Cargo                   0   dpqpn            NE  \n",
            "30         Fishing                   1   c28rk             W  \n",
            "51         Tug Tow                   8   dhxh2            SW  \n",
            "63           Cargo                   0   f074z             W  \n",
            "76           Cargo                   0   9jznf             E  \n",
            "...            ...                 ...     ...           ...  \n",
            "6600755    Fishing                   1   x4q2f            SE  \n",
            "6600756      Cargo                   0   x4que            NW  \n",
            "6600757      Cargo                   0   x4que             E  \n",
            "6600758      Cargo                   0   x4que             E  \n",
            "6600760      Cargo                   0   x4que            NW  \n",
            "\n",
            "[907722 rows x 10 columns]\n",
            "              MMSI         BaseDateTime       LAT        LON   SOG    COG  \\\n",
            "5        375902000  2022-01-04T00:00:02  17.92086  -65.75897  11.2  252.2   \n",
            "9        316009547  2022-01-04T00:00:10  48.93675 -123.70178   8.7   42.2   \n",
            "10       316011408  2022-01-04T00:00:00  49.18941 -123.71089  20.6  115.2   \n",
            "14       367138490  2022-01-04T00:00:03  29.00114  -89.85023   0.9  128.4   \n",
            "15       316001701  2022-01-04T00:00:06  44.13642  -86.58274  12.2   15.7   \n",
            "...            ...                  ...       ...        ...   ...    ...   \n",
            "6419230  367049000  2022-01-04T23:35:17  13.45796  144.63641   0.6  132.5   \n",
            "6419231  367391180  2022-01-04T23:47:17  13.45364  144.64540   1.8  253.2   \n",
            "6419232  367391180  2022-01-04T23:35:30  13.44962  144.66038   6.3  324.5   \n",
            "6419233  367391180  2022-01-04T23:38:46  13.45422  144.65654   7.1  311.1   \n",
            "6419234  367391180  2022-01-04T23:59:05  13.45256  144.64423   1.8  270.2   \n",
            "\n",
            "        VesselType  VesselType_labeled geohash COG_direction  \n",
            "5            Cargo                   0   de1jz             W  \n",
            "9        Passenger                   5   c28n3            NE  \n",
            "10       Passenger                   5   c28pb            SE  \n",
            "14       Passenger                   5   dj0hg            SE  \n",
            "15           Cargo                   0   dpf7j             N  \n",
            "...            ...                 ...     ...           ...  \n",
            "6419230      Cargo                   0   x4que            SE  \n",
            "6419231    Tug Tow                   8   x4que             W  \n",
            "6419232    Tug Tow                   8   x4que            NW  \n",
            "6419233    Tug Tow                   8   x4que            NW  \n",
            "6419234    Tug Tow                   8   x4que             W  \n",
            "\n",
            "[875437 rows x 10 columns]\n",
            "              MMSI         BaseDateTime       LAT        LON   SOG    COG  \\\n",
            "0        368061040  2022-01-06T00:00:00  29.39699  -93.83665   5.4  270.0   \n",
            "10       311000519  2022-01-06T00:00:07  37.56282 -123.67108  11.6   95.0   \n",
            "11       368085790  2022-01-06T00:00:00  29.51463  -94.51826   6.2  246.6   \n",
            "28       354277000  2022-01-06T00:00:05  26.50138 -114.39125  21.4  140.9   \n",
            "32       305472000  2022-01-06T00:00:01  41.60320  -73.95516  15.3  183.6   \n",
            "...            ...                  ...       ...        ...   ...    ...   \n",
            "7428034  538009340  2022-01-06T23:01:40  13.00227  143.57789  11.6  330.7   \n",
            "7428035  538009340  2022-01-06T23:12:40  13.03354  143.56073  11.6  331.7   \n",
            "7428036  538009340  2022-01-06T23:17:40  13.04772  143.55304  11.5  332.0   \n",
            "7428037  538009340  2022-01-06T23:25:29  13.06957  143.54089  11.4  331.6   \n",
            "7428038  538009340  2022-01-06T23:56:29  13.15571  143.49240  10.9  323.1   \n",
            "\n",
            "        VesselType  VesselType_labeled geohash COG_direction  \n",
            "0          Tug Tow                   8   9vjr0             W  \n",
            "10           Cargo                   0   9q8j9             E  \n",
            "11           Other                   4   9vhzc            SW  \n",
            "28       Passenger                   5   9kwwu            SE  \n",
            "32           Cargo                   0   dr7kt             S  \n",
            "...            ...                 ...     ...           ...  \n",
            "7428034      Cargo                   0   x4q1g            NW  \n",
            "7428035      Cargo                   0   x4q44            NW  \n",
            "7428036      Cargo                   0   x4q44            NW  \n",
            "7428037      Cargo                   0   x4q46            NW  \n",
            "7428038      Cargo                   0   x4q4c            NW  \n",
            "\n",
            "[896321 rows x 10 columns]\n",
            "              MMSI         BaseDateTime       LAT        LON   SOG    COG  \\\n",
            "0        215165000  2022-01-05T00:00:00  30.47683 -118.10385   2.1  126.0   \n",
            "9        311349000  2022-01-05T00:00:05  48.11061 -122.49679  11.2  100.2   \n",
            "19       367362010  2022-01-05T00:00:06  38.02591 -122.38158  11.9  238.5   \n",
            "27       636020110  2022-01-05T00:00:01  25.43902  -79.85176  14.2   23.4   \n",
            "50       368027230  2022-01-05T00:00:00  47.95763 -122.29866  12.9  146.5   \n",
            "...            ...                  ...       ...        ...   ...    ...   \n",
            "7261380  372188000  2022-01-05T21:11:48  12.49189  145.14090   9.3  132.1   \n",
            "7261381  372188000  2022-01-05T21:18:57  12.48090  145.15569   9.5  131.3   \n",
            "7261382  372188000  2022-01-05T22:46:37  12.32424  145.33372   9.6  132.4   \n",
            "7261383  372188000  2022-01-05T22:52:58  12.31318  145.34666   9.3  131.2   \n",
            "7261384  372188000  2022-01-05T23:47:57  12.21817  145.46191  10.3  148.1   \n",
            "\n",
            "        VesselType  VesselType_labeled geohash COG_direction  \n",
            "0            Cargo                   0   9mkj2            SE  \n",
            "9            Cargo                   0   c28cs             E  \n",
            "19         Tug Tow                   8   9qbbr            SW  \n",
            "27           Cargo                   0   dhx0w            NE  \n",
            "50       Passenger                   5   c290c            SE  \n",
            "...            ...                 ...     ...           ...  \n",
            "7261380      Cargo                   0   x4ppn            SE  \n",
            "7261381      Cargo                   0   x4ppp            SE  \n",
            "7261382      Cargo                   0   x4pq5            SE  \n",
            "7261383      Cargo                   0   x4pq5            SE  \n",
            "7261384      Cargo                   0   x4pmw            SE  \n",
            "\n",
            "[856172 rows x 10 columns]\n"
          ]
        }
      ]
    },
    {
      "cell_type": "code",
      "source": [
        "import os\n",
        "dir_name = '/content/drive/MyDrive/zip/csv1'\n",
        "\n",
        "extension = \".csv\"\n",
        "\n",
        "folderpath = \"/content/drive/MyDrive/zip/csv1/backup\"\n",
        "#os.mkdir(folderpath)\n",
        "for i, df in enumerate(my_list, 1):\n",
        "    filename = \"AIS_2022_01_{}.csv\".format(i)\n",
        "    filepath = os.path.join(folderpath, filename)\n",
        "    df.to_csv(filepath)\n",
        "    #os.chdir('/content/drive/MyDrive/zip/csv1') # change directory from working dir to dir with files\n",
        "\n",
        "    #for item in os.listdir(dir_name): \n",
        "     # if item.endswith(extension): \n",
        "         # file_name = os.path.abspath(item)\n",
        "   # os.remove(file_name)"
      ],
      "metadata": {
        "id": "xdK4uCXpJaQq"
      },
      "execution_count": 27,
      "outputs": []
    },
    {
      "cell_type": "code",
      "source": [
        "new_file_list = glob.glob('/content/drive/MyDrive/zip/csv1/backup/*.csv')\n",
        "print(new_file_list)"
      ],
      "metadata": {
        "colab": {
          "base_uri": "https://localhost:8080/"
        },
        "id": "cpOvV7GWJbXX",
        "outputId": "a61eeff4-4f52-4a0a-f2be-955445018b69"
      },
      "execution_count": 28,
      "outputs": [
        {
          "output_type": "stream",
          "name": "stdout",
          "text": [
            "['/content/drive/MyDrive/zip/csv1/backup/AIS_2022_01_1.csv', '/content/drive/MyDrive/zip/csv1/backup/AIS_2022_01_2.csv', '/content/drive/MyDrive/zip/csv1/backup/AIS_2022_01_3.csv', '/content/drive/MyDrive/zip/csv1/backup/AIS_2022_01_4.csv', '/content/drive/MyDrive/zip/csv1/backup/AIS_2022_01_5.csv', '/content/drive/MyDrive/zip/csv1/backup/AIS_2022_01_6.csv']\n"
          ]
        }
      ]
    },
    {
      "cell_type": "code",
      "source": [
        "df_list = (pd.read_csv(file) for file in new_file_list)"
      ],
      "metadata": {
        "id": "-Mqaz-iMJfbQ"
      },
      "execution_count": 29,
      "outputs": []
    },
    {
      "cell_type": "code",
      "source": [
        "big_df = pd.concat(map(pd.read_csv, glob.glob( '/content/drive/MyDrive/zip/csv1/backup/*.csv')))"
      ],
      "metadata": {
        "id": "gIm0-IPdJiJ0"
      },
      "execution_count": 30,
      "outputs": []
    },
    {
      "cell_type": "code",
      "source": [
        "big_df.shape"
      ],
      "metadata": {
        "colab": {
          "base_uri": "https://localhost:8080/"
        },
        "id": "2ZjHe0-IMGeQ",
        "outputId": "0ea8c4b3-5b13-4a58-ae91-00da3007e240"
      },
      "execution_count": 31,
      "outputs": [
        {
          "output_type": "execute_result",
          "data": {
            "text/plain": [
              "(5569004, 11)"
            ]
          },
          "metadata": {},
          "execution_count": 31
        }
      ]
    },
    {
      "cell_type": "code",
      "source": [
        "grouped_big_df = big_df.groupby(['geohash', 'VesselType', 'SOG']).agg({'VesselType':'count'})\n",
        "grouped_big_df.columns = ['count']\n",
        "grouped_big_df = grouped_big_df.reset_index()\n",
        "grouped_big_df.head(100)"
      ],
      "metadata": {
        "colab": {
          "base_uri": "https://localhost:8080/",
          "height": 424
        },
        "id": "uQxbdNjTMJwk",
        "outputId": "d5794bd8-2f28-4261-93fd-5b2a1d7b8403"
      },
      "execution_count": 32,
      "outputs": [
        {
          "output_type": "execute_result",
          "data": {
            "text/plain": [
              "   geohash VesselType   SOG  count\n",
              "0    860p8      Cargo  11.1      1\n",
              "1    87nxs      Cargo  20.6      1\n",
              "2    87nxs      Cargo  21.0      1\n",
              "3    87nxw      Cargo  20.8      1\n",
              "4    87nxx      Cargo  21.0      1\n",
              "..     ...        ...   ...    ...\n",
              "95   87pzv      Cargo  22.7      1\n",
              "96   87pzv      Cargo  22.8      1\n",
              "97   87pzv      Cargo  22.9      1\n",
              "98   87pzy      Cargo  22.5      2\n",
              "99   87pzy      Cargo  22.6      1\n",
              "\n",
              "[100 rows x 4 columns]"
            ],
            "text/html": [
              "\n",
              "  <div id=\"df-1bd7ddd9-a8c8-405d-86a7-7b0a4f1a9574\">\n",
              "    <div class=\"colab-df-container\">\n",
              "      <div>\n",
              "<style scoped>\n",
              "    .dataframe tbody tr th:only-of-type {\n",
              "        vertical-align: middle;\n",
              "    }\n",
              "\n",
              "    .dataframe tbody tr th {\n",
              "        vertical-align: top;\n",
              "    }\n",
              "\n",
              "    .dataframe thead th {\n",
              "        text-align: right;\n",
              "    }\n",
              "</style>\n",
              "<table border=\"1\" class=\"dataframe\">\n",
              "  <thead>\n",
              "    <tr style=\"text-align: right;\">\n",
              "      <th></th>\n",
              "      <th>geohash</th>\n",
              "      <th>VesselType</th>\n",
              "      <th>SOG</th>\n",
              "      <th>count</th>\n",
              "    </tr>\n",
              "  </thead>\n",
              "  <tbody>\n",
              "    <tr>\n",
              "      <th>0</th>\n",
              "      <td>860p8</td>\n",
              "      <td>Cargo</td>\n",
              "      <td>11.1</td>\n",
              "      <td>1</td>\n",
              "    </tr>\n",
              "    <tr>\n",
              "      <th>1</th>\n",
              "      <td>87nxs</td>\n",
              "      <td>Cargo</td>\n",
              "      <td>20.6</td>\n",
              "      <td>1</td>\n",
              "    </tr>\n",
              "    <tr>\n",
              "      <th>2</th>\n",
              "      <td>87nxs</td>\n",
              "      <td>Cargo</td>\n",
              "      <td>21.0</td>\n",
              "      <td>1</td>\n",
              "    </tr>\n",
              "    <tr>\n",
              "      <th>3</th>\n",
              "      <td>87nxw</td>\n",
              "      <td>Cargo</td>\n",
              "      <td>20.8</td>\n",
              "      <td>1</td>\n",
              "    </tr>\n",
              "    <tr>\n",
              "      <th>4</th>\n",
              "      <td>87nxx</td>\n",
              "      <td>Cargo</td>\n",
              "      <td>21.0</td>\n",
              "      <td>1</td>\n",
              "    </tr>\n",
              "    <tr>\n",
              "      <th>...</th>\n",
              "      <td>...</td>\n",
              "      <td>...</td>\n",
              "      <td>...</td>\n",
              "      <td>...</td>\n",
              "    </tr>\n",
              "    <tr>\n",
              "      <th>95</th>\n",
              "      <td>87pzv</td>\n",
              "      <td>Cargo</td>\n",
              "      <td>22.7</td>\n",
              "      <td>1</td>\n",
              "    </tr>\n",
              "    <tr>\n",
              "      <th>96</th>\n",
              "      <td>87pzv</td>\n",
              "      <td>Cargo</td>\n",
              "      <td>22.8</td>\n",
              "      <td>1</td>\n",
              "    </tr>\n",
              "    <tr>\n",
              "      <th>97</th>\n",
              "      <td>87pzv</td>\n",
              "      <td>Cargo</td>\n",
              "      <td>22.9</td>\n",
              "      <td>1</td>\n",
              "    </tr>\n",
              "    <tr>\n",
              "      <th>98</th>\n",
              "      <td>87pzy</td>\n",
              "      <td>Cargo</td>\n",
              "      <td>22.5</td>\n",
              "      <td>2</td>\n",
              "    </tr>\n",
              "    <tr>\n",
              "      <th>99</th>\n",
              "      <td>87pzy</td>\n",
              "      <td>Cargo</td>\n",
              "      <td>22.6</td>\n",
              "      <td>1</td>\n",
              "    </tr>\n",
              "  </tbody>\n",
              "</table>\n",
              "<p>100 rows × 4 columns</p>\n",
              "</div>\n",
              "      <button class=\"colab-df-convert\" onclick=\"convertToInteractive('df-1bd7ddd9-a8c8-405d-86a7-7b0a4f1a9574')\"\n",
              "              title=\"Convert this dataframe to an interactive table.\"\n",
              "              style=\"display:none;\">\n",
              "        \n",
              "  <svg xmlns=\"http://www.w3.org/2000/svg\" height=\"24px\"viewBox=\"0 0 24 24\"\n",
              "       width=\"24px\">\n",
              "    <path d=\"M0 0h24v24H0V0z\" fill=\"none\"/>\n",
              "    <path d=\"M18.56 5.44l.94 2.06.94-2.06 2.06-.94-2.06-.94-.94-2.06-.94 2.06-2.06.94zm-11 1L8.5 8.5l.94-2.06 2.06-.94-2.06-.94L8.5 2.5l-.94 2.06-2.06.94zm10 10l.94 2.06.94-2.06 2.06-.94-2.06-.94-.94-2.06-.94 2.06-2.06.94z\"/><path d=\"M17.41 7.96l-1.37-1.37c-.4-.4-.92-.59-1.43-.59-.52 0-1.04.2-1.43.59L10.3 9.45l-7.72 7.72c-.78.78-.78 2.05 0 2.83L4 21.41c.39.39.9.59 1.41.59.51 0 1.02-.2 1.41-.59l7.78-7.78 2.81-2.81c.8-.78.8-2.07 0-2.86zM5.41 20L4 18.59l7.72-7.72 1.47 1.35L5.41 20z\"/>\n",
              "  </svg>\n",
              "      </button>\n",
              "      \n",
              "  <style>\n",
              "    .colab-df-container {\n",
              "      display:flex;\n",
              "      flex-wrap:wrap;\n",
              "      gap: 12px;\n",
              "    }\n",
              "\n",
              "    .colab-df-convert {\n",
              "      background-color: #E8F0FE;\n",
              "      border: none;\n",
              "      border-radius: 50%;\n",
              "      cursor: pointer;\n",
              "      display: none;\n",
              "      fill: #1967D2;\n",
              "      height: 32px;\n",
              "      padding: 0 0 0 0;\n",
              "      width: 32px;\n",
              "    }\n",
              "\n",
              "    .colab-df-convert:hover {\n",
              "      background-color: #E2EBFA;\n",
              "      box-shadow: 0px 1px 2px rgba(60, 64, 67, 0.3), 0px 1px 3px 1px rgba(60, 64, 67, 0.15);\n",
              "      fill: #174EA6;\n",
              "    }\n",
              "\n",
              "    [theme=dark] .colab-df-convert {\n",
              "      background-color: #3B4455;\n",
              "      fill: #D2E3FC;\n",
              "    }\n",
              "\n",
              "    [theme=dark] .colab-df-convert:hover {\n",
              "      background-color: #434B5C;\n",
              "      box-shadow: 0px 1px 3px 1px rgba(0, 0, 0, 0.15);\n",
              "      filter: drop-shadow(0px 1px 2px rgba(0, 0, 0, 0.3));\n",
              "      fill: #FFFFFF;\n",
              "    }\n",
              "  </style>\n",
              "\n",
              "      <script>\n",
              "        const buttonEl =\n",
              "          document.querySelector('#df-1bd7ddd9-a8c8-405d-86a7-7b0a4f1a9574 button.colab-df-convert');\n",
              "        buttonEl.style.display =\n",
              "          google.colab.kernel.accessAllowed ? 'block' : 'none';\n",
              "\n",
              "        async function convertToInteractive(key) {\n",
              "          const element = document.querySelector('#df-1bd7ddd9-a8c8-405d-86a7-7b0a4f1a9574');\n",
              "          const dataTable =\n",
              "            await google.colab.kernel.invokeFunction('convertToInteractive',\n",
              "                                                     [key], {});\n",
              "          if (!dataTable) return;\n",
              "\n",
              "          const docLinkHtml = 'Like what you see? Visit the ' +\n",
              "            '<a target=\"_blank\" href=https://colab.research.google.com/notebooks/data_table.ipynb>data table notebook</a>'\n",
              "            + ' to learn more about interactive tables.';\n",
              "          element.innerHTML = '';\n",
              "          dataTable['output_type'] = 'display_data';\n",
              "          await google.colab.output.renderOutput(dataTable, element);\n",
              "          const docLink = document.createElement('div');\n",
              "          docLink.innerHTML = docLinkHtml;\n",
              "          element.appendChild(docLink);\n",
              "        }\n",
              "      </script>\n",
              "    </div>\n",
              "  </div>\n",
              "  "
            ]
          },
          "metadata": {},
          "execution_count": 32
        }
      ]
    },
    {
      "cell_type": "code",
      "source": [
        "def my_agg(x):\n",
        "  names = {'weighted_average_SOG': (x['count']*x['SOG']).sum()/x['count'].sum()}\n",
        "  return pd.Series(names, index=['weighted_average_SOG'])"
      ],
      "metadata": {
        "id": "Lt_G0YNiMMsW"
      },
      "execution_count": 33,
      "outputs": []
    },
    {
      "cell_type": "code",
      "source": [
        "grouped_big_df.groupby(['geohash', 'VesselType']).apply(my_agg)"
      ],
      "metadata": {
        "colab": {
          "base_uri": "https://localhost:8080/",
          "height": 455
        },
        "id": "U2Qs8Aq_MTxd",
        "outputId": "7aa140f5-cd6b-4611-e748-9310fd0ea8b3"
      },
      "execution_count": 34,
      "outputs": [
        {
          "output_type": "execute_result",
          "data": {
            "text/plain": [
              "                    weighted_average_SOG\n",
              "geohash VesselType                      \n",
              "860p8   Cargo                  11.100000\n",
              "87nxs   Cargo                  20.800000\n",
              "87nxw   Cargo                  20.800000\n",
              "87nxx   Cargo                  21.000000\n",
              "87nz9   Cargo                  21.433333\n",
              "...                                  ...\n",
              "x604c   Tanker                 11.733333\n",
              "x604d   Tanker                 11.800000\n",
              "x604h   Tanker                 11.800000\n",
              "x604j   Tanker                 12.150000\n",
              "x604k   Tanker                 11.700000\n",
              "\n",
              "[147859 rows x 1 columns]"
            ],
            "text/html": [
              "\n",
              "  <div id=\"df-066c330f-6056-4061-b4fb-a59222d2a1cb\">\n",
              "    <div class=\"colab-df-container\">\n",
              "      <div>\n",
              "<style scoped>\n",
              "    .dataframe tbody tr th:only-of-type {\n",
              "        vertical-align: middle;\n",
              "    }\n",
              "\n",
              "    .dataframe tbody tr th {\n",
              "        vertical-align: top;\n",
              "    }\n",
              "\n",
              "    .dataframe thead th {\n",
              "        text-align: right;\n",
              "    }\n",
              "</style>\n",
              "<table border=\"1\" class=\"dataframe\">\n",
              "  <thead>\n",
              "    <tr style=\"text-align: right;\">\n",
              "      <th></th>\n",
              "      <th></th>\n",
              "      <th>weighted_average_SOG</th>\n",
              "    </tr>\n",
              "    <tr>\n",
              "      <th>geohash</th>\n",
              "      <th>VesselType</th>\n",
              "      <th></th>\n",
              "    </tr>\n",
              "  </thead>\n",
              "  <tbody>\n",
              "    <tr>\n",
              "      <th>860p8</th>\n",
              "      <th>Cargo</th>\n",
              "      <td>11.100000</td>\n",
              "    </tr>\n",
              "    <tr>\n",
              "      <th>87nxs</th>\n",
              "      <th>Cargo</th>\n",
              "      <td>20.800000</td>\n",
              "    </tr>\n",
              "    <tr>\n",
              "      <th>87nxw</th>\n",
              "      <th>Cargo</th>\n",
              "      <td>20.800000</td>\n",
              "    </tr>\n",
              "    <tr>\n",
              "      <th>87nxx</th>\n",
              "      <th>Cargo</th>\n",
              "      <td>21.000000</td>\n",
              "    </tr>\n",
              "    <tr>\n",
              "      <th>87nz9</th>\n",
              "      <th>Cargo</th>\n",
              "      <td>21.433333</td>\n",
              "    </tr>\n",
              "    <tr>\n",
              "      <th>...</th>\n",
              "      <th>...</th>\n",
              "      <td>...</td>\n",
              "    </tr>\n",
              "    <tr>\n",
              "      <th>x604c</th>\n",
              "      <th>Tanker</th>\n",
              "      <td>11.733333</td>\n",
              "    </tr>\n",
              "    <tr>\n",
              "      <th>x604d</th>\n",
              "      <th>Tanker</th>\n",
              "      <td>11.800000</td>\n",
              "    </tr>\n",
              "    <tr>\n",
              "      <th>x604h</th>\n",
              "      <th>Tanker</th>\n",
              "      <td>11.800000</td>\n",
              "    </tr>\n",
              "    <tr>\n",
              "      <th>x604j</th>\n",
              "      <th>Tanker</th>\n",
              "      <td>12.150000</td>\n",
              "    </tr>\n",
              "    <tr>\n",
              "      <th>x604k</th>\n",
              "      <th>Tanker</th>\n",
              "      <td>11.700000</td>\n",
              "    </tr>\n",
              "  </tbody>\n",
              "</table>\n",
              "<p>147859 rows × 1 columns</p>\n",
              "</div>\n",
              "      <button class=\"colab-df-convert\" onclick=\"convertToInteractive('df-066c330f-6056-4061-b4fb-a59222d2a1cb')\"\n",
              "              title=\"Convert this dataframe to an interactive table.\"\n",
              "              style=\"display:none;\">\n",
              "        \n",
              "  <svg xmlns=\"http://www.w3.org/2000/svg\" height=\"24px\"viewBox=\"0 0 24 24\"\n",
              "       width=\"24px\">\n",
              "    <path d=\"M0 0h24v24H0V0z\" fill=\"none\"/>\n",
              "    <path d=\"M18.56 5.44l.94 2.06.94-2.06 2.06-.94-2.06-.94-.94-2.06-.94 2.06-2.06.94zm-11 1L8.5 8.5l.94-2.06 2.06-.94-2.06-.94L8.5 2.5l-.94 2.06-2.06.94zm10 10l.94 2.06.94-2.06 2.06-.94-2.06-.94-.94-2.06-.94 2.06-2.06.94z\"/><path d=\"M17.41 7.96l-1.37-1.37c-.4-.4-.92-.59-1.43-.59-.52 0-1.04.2-1.43.59L10.3 9.45l-7.72 7.72c-.78.78-.78 2.05 0 2.83L4 21.41c.39.39.9.59 1.41.59.51 0 1.02-.2 1.41-.59l7.78-7.78 2.81-2.81c.8-.78.8-2.07 0-2.86zM5.41 20L4 18.59l7.72-7.72 1.47 1.35L5.41 20z\"/>\n",
              "  </svg>\n",
              "      </button>\n",
              "      \n",
              "  <style>\n",
              "    .colab-df-container {\n",
              "      display:flex;\n",
              "      flex-wrap:wrap;\n",
              "      gap: 12px;\n",
              "    }\n",
              "\n",
              "    .colab-df-convert {\n",
              "      background-color: #E8F0FE;\n",
              "      border: none;\n",
              "      border-radius: 50%;\n",
              "      cursor: pointer;\n",
              "      display: none;\n",
              "      fill: #1967D2;\n",
              "      height: 32px;\n",
              "      padding: 0 0 0 0;\n",
              "      width: 32px;\n",
              "    }\n",
              "\n",
              "    .colab-df-convert:hover {\n",
              "      background-color: #E2EBFA;\n",
              "      box-shadow: 0px 1px 2px rgba(60, 64, 67, 0.3), 0px 1px 3px 1px rgba(60, 64, 67, 0.15);\n",
              "      fill: #174EA6;\n",
              "    }\n",
              "\n",
              "    [theme=dark] .colab-df-convert {\n",
              "      background-color: #3B4455;\n",
              "      fill: #D2E3FC;\n",
              "    }\n",
              "\n",
              "    [theme=dark] .colab-df-convert:hover {\n",
              "      background-color: #434B5C;\n",
              "      box-shadow: 0px 1px 3px 1px rgba(0, 0, 0, 0.15);\n",
              "      filter: drop-shadow(0px 1px 2px rgba(0, 0, 0, 0.3));\n",
              "      fill: #FFFFFF;\n",
              "    }\n",
              "  </style>\n",
              "\n",
              "      <script>\n",
              "        const buttonEl =\n",
              "          document.querySelector('#df-066c330f-6056-4061-b4fb-a59222d2a1cb button.colab-df-convert');\n",
              "        buttonEl.style.display =\n",
              "          google.colab.kernel.accessAllowed ? 'block' : 'none';\n",
              "\n",
              "        async function convertToInteractive(key) {\n",
              "          const element = document.querySelector('#df-066c330f-6056-4061-b4fb-a59222d2a1cb');\n",
              "          const dataTable =\n",
              "            await google.colab.kernel.invokeFunction('convertToInteractive',\n",
              "                                                     [key], {});\n",
              "          if (!dataTable) return;\n",
              "\n",
              "          const docLinkHtml = 'Like what you see? Visit the ' +\n",
              "            '<a target=\"_blank\" href=https://colab.research.google.com/notebooks/data_table.ipynb>data table notebook</a>'\n",
              "            + ' to learn more about interactive tables.';\n",
              "          element.innerHTML = '';\n",
              "          dataTable['output_type'] = 'display_data';\n",
              "          await google.colab.output.renderOutput(dataTable, element);\n",
              "          const docLink = document.createElement('div');\n",
              "          docLink.innerHTML = docLinkHtml;\n",
              "          element.appendChild(docLink);\n",
              "        }\n",
              "      </script>\n",
              "    </div>\n",
              "  </div>\n",
              "  "
            ]
          },
          "metadata": {},
          "execution_count": 34
        }
      ]
    },
    {
      "cell_type": "code",
      "source": [
        "df = pd.read_csv('/content/drive/MyDrive/zip/csv1/backup/AIS_2022_01_6.csv')\n",
        "df.head()"
      ],
      "metadata": {
        "colab": {
          "base_uri": "https://localhost:8080/",
          "height": 374
        },
        "id": "i0zPG2HCMj-_",
        "outputId": "7a8717e3-9b37-41a9-db09-1099a874ef4c"
      },
      "execution_count": 40,
      "outputs": [
        {
          "output_type": "execute_result",
          "data": {
            "text/plain": [
              "   Unnamed: 0       MMSI         BaseDateTime       LAT        LON   SOG  \\\n",
              "0           0  215165000  2022-01-05T00:00:00  30.47683 -118.10385   2.1   \n",
              "1           9  311349000  2022-01-05T00:00:05  48.11061 -122.49679  11.2   \n",
              "2          19  367362010  2022-01-05T00:00:06  38.02591 -122.38158  11.9   \n",
              "3          27  636020110  2022-01-05T00:00:01  25.43902  -79.85176  14.2   \n",
              "4          50  368027230  2022-01-05T00:00:00  47.95763 -122.29866  12.9   \n",
              "\n",
              "     COG VesselType  VesselType_labeled geohash COG_direction  \n",
              "0  126.0      Cargo                   0   9mkj2            SE  \n",
              "1  100.2      Cargo                   0   c28cs             E  \n",
              "2  238.5    Tug Tow                   8   9qbbr            SW  \n",
              "3   23.4      Cargo                   0   dhx0w            NE  \n",
              "4  146.5  Passenger                   5   c290c            SE  "
            ],
            "text/html": [
              "\n",
              "  <div id=\"df-7264aa0f-d8a5-4476-ad46-de07b30ffece\">\n",
              "    <div class=\"colab-df-container\">\n",
              "      <div>\n",
              "<style scoped>\n",
              "    .dataframe tbody tr th:only-of-type {\n",
              "        vertical-align: middle;\n",
              "    }\n",
              "\n",
              "    .dataframe tbody tr th {\n",
              "        vertical-align: top;\n",
              "    }\n",
              "\n",
              "    .dataframe thead th {\n",
              "        text-align: right;\n",
              "    }\n",
              "</style>\n",
              "<table border=\"1\" class=\"dataframe\">\n",
              "  <thead>\n",
              "    <tr style=\"text-align: right;\">\n",
              "      <th></th>\n",
              "      <th>Unnamed: 0</th>\n",
              "      <th>MMSI</th>\n",
              "      <th>BaseDateTime</th>\n",
              "      <th>LAT</th>\n",
              "      <th>LON</th>\n",
              "      <th>SOG</th>\n",
              "      <th>COG</th>\n",
              "      <th>VesselType</th>\n",
              "      <th>VesselType_labeled</th>\n",
              "      <th>geohash</th>\n",
              "      <th>COG_direction</th>\n",
              "    </tr>\n",
              "  </thead>\n",
              "  <tbody>\n",
              "    <tr>\n",
              "      <th>0</th>\n",
              "      <td>0</td>\n",
              "      <td>215165000</td>\n",
              "      <td>2022-01-05T00:00:00</td>\n",
              "      <td>30.47683</td>\n",
              "      <td>-118.10385</td>\n",
              "      <td>2.1</td>\n",
              "      <td>126.0</td>\n",
              "      <td>Cargo</td>\n",
              "      <td>0</td>\n",
              "      <td>9mkj2</td>\n",
              "      <td>SE</td>\n",
              "    </tr>\n",
              "    <tr>\n",
              "      <th>1</th>\n",
              "      <td>9</td>\n",
              "      <td>311349000</td>\n",
              "      <td>2022-01-05T00:00:05</td>\n",
              "      <td>48.11061</td>\n",
              "      <td>-122.49679</td>\n",
              "      <td>11.2</td>\n",
              "      <td>100.2</td>\n",
              "      <td>Cargo</td>\n",
              "      <td>0</td>\n",
              "      <td>c28cs</td>\n",
              "      <td>E</td>\n",
              "    </tr>\n",
              "    <tr>\n",
              "      <th>2</th>\n",
              "      <td>19</td>\n",
              "      <td>367362010</td>\n",
              "      <td>2022-01-05T00:00:06</td>\n",
              "      <td>38.02591</td>\n",
              "      <td>-122.38158</td>\n",
              "      <td>11.9</td>\n",
              "      <td>238.5</td>\n",
              "      <td>Tug Tow</td>\n",
              "      <td>8</td>\n",
              "      <td>9qbbr</td>\n",
              "      <td>SW</td>\n",
              "    </tr>\n",
              "    <tr>\n",
              "      <th>3</th>\n",
              "      <td>27</td>\n",
              "      <td>636020110</td>\n",
              "      <td>2022-01-05T00:00:01</td>\n",
              "      <td>25.43902</td>\n",
              "      <td>-79.85176</td>\n",
              "      <td>14.2</td>\n",
              "      <td>23.4</td>\n",
              "      <td>Cargo</td>\n",
              "      <td>0</td>\n",
              "      <td>dhx0w</td>\n",
              "      <td>NE</td>\n",
              "    </tr>\n",
              "    <tr>\n",
              "      <th>4</th>\n",
              "      <td>50</td>\n",
              "      <td>368027230</td>\n",
              "      <td>2022-01-05T00:00:00</td>\n",
              "      <td>47.95763</td>\n",
              "      <td>-122.29866</td>\n",
              "      <td>12.9</td>\n",
              "      <td>146.5</td>\n",
              "      <td>Passenger</td>\n",
              "      <td>5</td>\n",
              "      <td>c290c</td>\n",
              "      <td>SE</td>\n",
              "    </tr>\n",
              "  </tbody>\n",
              "</table>\n",
              "</div>\n",
              "      <button class=\"colab-df-convert\" onclick=\"convertToInteractive('df-7264aa0f-d8a5-4476-ad46-de07b30ffece')\"\n",
              "              title=\"Convert this dataframe to an interactive table.\"\n",
              "              style=\"display:none;\">\n",
              "        \n",
              "  <svg xmlns=\"http://www.w3.org/2000/svg\" height=\"24px\"viewBox=\"0 0 24 24\"\n",
              "       width=\"24px\">\n",
              "    <path d=\"M0 0h24v24H0V0z\" fill=\"none\"/>\n",
              "    <path d=\"M18.56 5.44l.94 2.06.94-2.06 2.06-.94-2.06-.94-.94-2.06-.94 2.06-2.06.94zm-11 1L8.5 8.5l.94-2.06 2.06-.94-2.06-.94L8.5 2.5l-.94 2.06-2.06.94zm10 10l.94 2.06.94-2.06 2.06-.94-2.06-.94-.94-2.06-.94 2.06-2.06.94z\"/><path d=\"M17.41 7.96l-1.37-1.37c-.4-.4-.92-.59-1.43-.59-.52 0-1.04.2-1.43.59L10.3 9.45l-7.72 7.72c-.78.78-.78 2.05 0 2.83L4 21.41c.39.39.9.59 1.41.59.51 0 1.02-.2 1.41-.59l7.78-7.78 2.81-2.81c.8-.78.8-2.07 0-2.86zM5.41 20L4 18.59l7.72-7.72 1.47 1.35L5.41 20z\"/>\n",
              "  </svg>\n",
              "      </button>\n",
              "      \n",
              "  <style>\n",
              "    .colab-df-container {\n",
              "      display:flex;\n",
              "      flex-wrap:wrap;\n",
              "      gap: 12px;\n",
              "    }\n",
              "\n",
              "    .colab-df-convert {\n",
              "      background-color: #E8F0FE;\n",
              "      border: none;\n",
              "      border-radius: 50%;\n",
              "      cursor: pointer;\n",
              "      display: none;\n",
              "      fill: #1967D2;\n",
              "      height: 32px;\n",
              "      padding: 0 0 0 0;\n",
              "      width: 32px;\n",
              "    }\n",
              "\n",
              "    .colab-df-convert:hover {\n",
              "      background-color: #E2EBFA;\n",
              "      box-shadow: 0px 1px 2px rgba(60, 64, 67, 0.3), 0px 1px 3px 1px rgba(60, 64, 67, 0.15);\n",
              "      fill: #174EA6;\n",
              "    }\n",
              "\n",
              "    [theme=dark] .colab-df-convert {\n",
              "      background-color: #3B4455;\n",
              "      fill: #D2E3FC;\n",
              "    }\n",
              "\n",
              "    [theme=dark] .colab-df-convert:hover {\n",
              "      background-color: #434B5C;\n",
              "      box-shadow: 0px 1px 3px 1px rgba(0, 0, 0, 0.15);\n",
              "      filter: drop-shadow(0px 1px 2px rgba(0, 0, 0, 0.3));\n",
              "      fill: #FFFFFF;\n",
              "    }\n",
              "  </style>\n",
              "\n",
              "      <script>\n",
              "        const buttonEl =\n",
              "          document.querySelector('#df-7264aa0f-d8a5-4476-ad46-de07b30ffece button.colab-df-convert');\n",
              "        buttonEl.style.display =\n",
              "          google.colab.kernel.accessAllowed ? 'block' : 'none';\n",
              "\n",
              "        async function convertToInteractive(key) {\n",
              "          const element = document.querySelector('#df-7264aa0f-d8a5-4476-ad46-de07b30ffece');\n",
              "          const dataTable =\n",
              "            await google.colab.kernel.invokeFunction('convertToInteractive',\n",
              "                                                     [key], {});\n",
              "          if (!dataTable) return;\n",
              "\n",
              "          const docLinkHtml = 'Like what you see? Visit the ' +\n",
              "            '<a target=\"_blank\" href=https://colab.research.google.com/notebooks/data_table.ipynb>data table notebook</a>'\n",
              "            + ' to learn more about interactive tables.';\n",
              "          element.innerHTML = '';\n",
              "          dataTable['output_type'] = 'display_data';\n",
              "          await google.colab.output.renderOutput(dataTable, element);\n",
              "          const docLink = document.createElement('div');\n",
              "          docLink.innerHTML = docLinkHtml;\n",
              "          element.appendChild(docLink);\n",
              "        }\n",
              "      </script>\n",
              "    </div>\n",
              "  </div>\n",
              "  "
            ]
          },
          "metadata": {},
          "execution_count": 40
        }
      ]
    }
  ]
}