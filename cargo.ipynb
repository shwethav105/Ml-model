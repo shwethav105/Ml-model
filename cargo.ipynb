{
  "nbformat": 4,
  "nbformat_minor": 0,
  "metadata": {
    "colab": {
      "name": "cargo.ipynb",
      "provenance": [],
      "collapsed_sections": []
    },
    "kernelspec": {
      "name": "python3",
      "display_name": "Python 3"
    },
    "language_info": {
      "name": "python"
    }
  },
  "cells": [
    {
      "cell_type": "code",
      "execution_count": 39,
      "metadata": {
        "colab": {
          "base_uri": "https://localhost:8080/"
        },
        "id": "FfjSAtEd8CrD",
        "outputId": "7ad8e86f-a238-4c87-cb47-581552a923c9"
      },
      "outputs": [
        {
          "output_type": "stream",
          "name": "stdout",
          "text": [
            "Mounted at /gdrive\n"
          ]
        }
      ],
      "source": [
        "from google.colab import drive\n",
        "drive.mount('/gdrive')"
      ]
    },
    {
      "cell_type": "code",
      "source": [
        "from google.colab import drive\n",
        "drive.mount('/content/drive')"
      ],
      "metadata": {
        "colab": {
          "base_uri": "https://localhost:8080/"
        },
        "id": "y5vgm0UO8SXS",
        "outputId": "092375b6-1eac-41f6-cb66-b5d887fd217f"
      },
      "execution_count": 40,
      "outputs": [
        {
          "output_type": "stream",
          "name": "stdout",
          "text": [
            "Mounted at /content/drive\n"
          ]
        }
      ]
    },
    {
      "cell_type": "code",
      "source": [
        "path = '/content/drive/MyDrive/zip1'"
      ],
      "metadata": {
        "id": "KKkU1MGB8jJr"
      },
      "execution_count": 43,
      "outputs": []
    },
    {
      "cell_type": "code",
      "source": [
        "! pip install pygeohash"
      ],
      "metadata": {
        "colab": {
          "base_uri": "https://localhost:8080/"
        },
        "id": "VEocHQ3d8lz_",
        "outputId": "67928c03-064a-46b6-dd2e-c9b76377732c"
      },
      "execution_count": 42,
      "outputs": [
        {
          "output_type": "stream",
          "name": "stdout",
          "text": [
            "Looking in indexes: https://pypi.org/simple, https://us-python.pkg.dev/colab-wheels/public/simple/\n",
            "Requirement already satisfied: pygeohash in /usr/local/lib/python3.7/dist-packages (1.2.0)\n"
          ]
        }
      ]
    },
    {
      "cell_type": "code",
      "source": [
        "import numpy as np\n",
        "import pandas as pd\n",
        "from pandas import*\n",
        "import datetime\n",
        "import glob\n",
        "\n",
        "# Data Visualization libraries\n",
        "import matplotlib.pyplot as plt\n",
        "import seaborn as sns\n",
        "%matplotlib inline\n",
        "\n",
        "# Data pre-processing libraries\n",
        "from sklearn.preprocessing import LabelEncoder\n",
        "import pygeohash as gh"
      ],
      "metadata": {
        "id": "BbEtT72zqpY3"
      },
      "execution_count": 44,
      "outputs": []
    },
    {
      "cell_type": "code",
      "source": [
        "import os\n",
        "dir_name = '/content/drive/MyDrive/zip'\n",
        "\n",
        "extension = \".zip\"\n",
        "\n",
        "#folderpath = \"/content/drive/MyDrive/zip/csv1/backup\"\n",
        "#os.mkdir(folderpath)\n",
        "#for i, df in enumerate(my_list, 1):\n",
        "#filename = \"AIS_2021_01_2{}.csv\".format(i)\n",
        "    #filepath = os.path.join(folderpath, filename)\n",
        "    #df.to_csv(filepath)\n",
        "os.chdir('/content/drive/MyDrive/zip') # change directory from working dir to dir with files\n",
        "for item in os.listdir(dir_name): \n",
        "  if item.endswith(extension): \n",
        "    file_name = os.path.abspath(item)\n",
        "    os.remove(file_name)\n"
      ],
      "metadata": {
        "id": "jJwwX1fwpVJS"
      },
      "execution_count": null,
      "outputs": []
    },
    {
      "cell_type": "code",
      "source": [
        "import os\n",
        "import sys\n",
        "import zipfile\n",
        "\n",
        "\n",
        "def csv_files(source_dir):\n",
        "    for filename in os.listdir(source_dir):\n",
        "        if filename.endswith('.csv'):\n",
        "            yield filename\n",
        "\n",
        "\n",
        "source_dir = '/content/drive/MyDrive/dummy_csv'  # r'C:\\users\\xyz\\Source\\'\n",
        "dest_dir = '/content/drive/MyDrive/zip'  # r'C:\\users\\xyz\\Dest\\'\n",
        "\n",
        "os.chdir(source_dir)  # To work around zipfile limitations\n",
        "\n",
        "for csv_filename in csv_files(source_dir):\n",
        "    file_root = os.path.splitext(csv_filename)[0]\n",
        "    zip_file_name = file_root + '.zip'\n",
        "    zip_file_path = os.path.join(dest_dir, zip_file_name)\n",
        "    with zipfile.ZipFile(zip_file_path, mode='w') as zf:\n",
        "        zf.write(csv_filename)"
      ],
      "metadata": {
        "id": "qL7V4f9yrM4c"
      },
      "execution_count": null,
      "outputs": []
    },
    {
      "cell_type": "code",
      "source": [
        "import os, zipfile\n",
        "\n",
        "dir_name = '/content/drive/MyDrive/zip1'\n",
        "\n",
        "extension = \".zip\"\n",
        "\n",
        "\n",
        "\n",
        "os.chdir('/content/drive/MyDrive/zip1') # change directory from working dir to dir with files\n",
        "\n",
        "for item in os.listdir(dir_name): \n",
        "  if item.endswith(extension): \n",
        "    file_name = os.path.abspath(item) # get full path of files\n",
        "    zip_ref = zipfile.ZipFile(file_name) # create zipfile object\n",
        "    zip_ref.extractall('/content/drive/MyDrive/zip1/csv') # extract file to dir\n",
        "\n",
        "zip_ref.close() # close file\n",
        "\n",
        "#os.remove(file_name) # de"
      ],
      "metadata": {
        "id": "GhV5OzKU8wEb"
      },
      "execution_count": 45,
      "outputs": []
    },
    {
      "cell_type": "code",
      "source": [
        "path =  '/content/drive/MyDrive/zip1'"
      ],
      "metadata": {
        "id": "UU39GSOR9Mnw"
      },
      "execution_count": 46,
      "outputs": []
    },
    {
      "cell_type": "code",
      "source": [
        "file_list = glob.glob(path + '/csv/*.*')\n",
        "print(file_list)"
      ],
      "metadata": {
        "colab": {
          "base_uri": "https://localhost:8080/"
        },
        "id": "uEhdCgmR9PYq",
        "outputId": "4d220a3f-ce6b-4d20-81ab-a4f09df17c89"
      },
      "execution_count": 47,
      "outputs": [
        {
          "output_type": "stream",
          "name": "stdout",
          "text": [
            "['/content/drive/MyDrive/zip1/csv/AIS_2021_01_30.csv', '/content/drive/MyDrive/zip1/csv/AIS_2021_01_29.csv', '/content/drive/MyDrive/zip1/csv/AIS_2021_01_28.csv', '/content/drive/MyDrive/zip1/csv/AIS_2021_01_27.csv', '/content/drive/MyDrive/zip1/csv/AIS_2021_01_26.csv', '/content/drive/MyDrive/zip1/csv/AIS_2021_01_25.csv', '/content/drive/MyDrive/zip1/csv/AIS_2021_01_24.csv', '/content/drive/MyDrive/zip1/csv/AIS_2021_01_23.csv']\n"
          ]
        }
      ]
    },
    {
      "cell_type": "code",
      "source": [
        "my_list = []\n",
        "new_path = path + '/csv/*.csv'\n",
        "for file in glob.glob(new_path):\n",
        "  print(file)\n",
        "  a = pd.read_csv(file)\n",
        "  my_list.append(a)"
      ],
      "metadata": {
        "colab": {
          "base_uri": "https://localhost:8080/"
        },
        "id": "jDIGY8Zz9Sc3",
        "outputId": "7b657870-96b8-4191-a167-ee5cc8459017"
      },
      "execution_count": 49,
      "outputs": [
        {
          "output_type": "stream",
          "name": "stdout",
          "text": [
            "/content/drive/MyDrive/zip1/csv/AIS_2021_01_30.csv\n",
            "/content/drive/MyDrive/zip1/csv/AIS_2021_01_29.csv\n",
            "/content/drive/MyDrive/zip1/csv/AIS_2021_01_28.csv\n",
            "/content/drive/MyDrive/zip1/csv/AIS_2021_01_27.csv\n",
            "/content/drive/MyDrive/zip1/csv/AIS_2021_01_26.csv\n",
            "/content/drive/MyDrive/zip1/csv/AIS_2021_01_25.csv\n",
            "/content/drive/MyDrive/zip1/csv/AIS_2021_01_23.csv\n"
          ]
        }
      ]
    },
    {
      "cell_type": "code",
      "source": [
        "def drop_missing_values(data):\n",
        "  data.isna().mean().round(4)*100\n",
        "  data.dropna(inplace=True)\n",
        "  data.isna().sum()\n",
        "  data.drop_duplicates()\n",
        "  #print(data)"
      ],
      "metadata": {
        "id": "BIuUgpvY98Gi"
      },
      "execution_count": 50,
      "outputs": []
    },
    {
      "cell_type": "code",
      "source": [
        "def drop_unwanted_columns(data):\n",
        "  data.drop(columns=['Heading',\n",
        "       'VesselName', 'IMO', 'CallSign', 'Status', 'Length',\n",
        "       'Width', 'Draft', 'Cargo', 'TransceiverClass'], axis = 1, inplace=True)"
      ],
      "metadata": {
        "id": "zy9pjPfg9-PI"
      },
      "execution_count": 51,
      "outputs": []
    },
    {
      "cell_type": "code",
      "source": [
        "def drop_invalid_mmsi(data):\n",
        "  \n",
        "  invalid_entries=[111111111,222222222,333333333,444444444,555555555,666666666,777777777,888888888,999999999, 123456789, 987654321]\n",
        "  invalid = data[data.MMSI.isin(invalid_entries)]\n",
        "  data.drop(invalid.index, axis=0, inplace=True)\n",
        "  #print(data)"
      ],
      "metadata": {
        "id": "KsU12OvP-ECd"
      },
      "execution_count": 52,
      "outputs": []
    },
    {
      "cell_type": "code",
      "source": [
        "def invalid_mmsi_length(data):\n",
        "  data['MMSI_length']= data['MMSI'].map(str).apply(len)\n",
        "  data = data[data['MMSI_length']==9]\n",
        "  data.drop('MMSI_length', axis=1, inplace=True)"
      ],
      "metadata": {
        "id": "2X78Vt6y-IIP"
      },
      "execution_count": 53,
      "outputs": []
    },
    {
      "cell_type": "code",
      "source": [
        "def zero_sog(data):\n",
        "  index_names=data[data['SOG']==0.0].index\n",
        "  data.drop(index_names, inplace=True)"
      ],
      "metadata": {
        "id": "6EgOyocO-Osr"
      },
      "execution_count": 54,
      "outputs": []
    },
    {
      "cell_type": "code",
      "source": [
        "def vesseltype_categories(data):\n",
        "  data.dropna(subset = [\"VesselType\"], axis = 0, inplace=True)\n",
        "  data['VesselType'] = data['VesselType'].apply(np.int64)\n",
        "  data[\"VesselType\"].replace({0: \"Not Available\", 30: \"Fishing\", 35:\"Military\", \n",
        "                          (1,2,3,4,5,6,7,8,9,10,11,12,13,14,15,16,17,18,19,20,23,24,25,26,27,28,29,33,34, \n",
        "                           38,39,40,41,42,43,44,45,46,47,48,49,50,51,53,54,55,56,57,58,59, 90,\n",
        "                           91,92,93,94,95,96,97,98,99):'Other',\n",
        "                          (60,61,62,63,64,65,66,67,68,69):'Passenger',\n",
        "                          (70,71,72,73,74,75,76,77,78,79):'Cargo',\n",
        "                          (36,37):'Pleasure Craft/Sailing',\n",
        "                          (80,81,82,83,84,85,86,87,88,89):'Tanker',\n",
        "                          (21,22,31,32,52):'Tug Tow'}, inplace=True)\n",
        "  label_encoder = LabelEncoder()\n",
        "  data['VesselType_labeled']=label_encoder.fit_transform(data['VesselType'])"
      ],
      "metadata": {
        "id": "JbHCk3ld-U2k"
      },
      "execution_count": 55,
      "outputs": []
    },
    {
      "cell_type": "code",
      "source": [
        "def course_direction(data):\n",
        "  def categorize(data):\n",
        "    if data['COG']<22.5:\n",
        "       return 'N'\n",
        "    if data['COG']>=22.5 and data['COG']<67.5:\n",
        "      return 'NE'\n",
        "    if data['COG']>=67.5 and data['COG']<112.5:\n",
        "      return 'E'\n",
        "    if data['COG']>=112.5 and data['COG']<157.5:\n",
        "      return 'SE'\n",
        "    if data['COG']>=157.5 and data['COG']<202.5:\n",
        "      return 'S'\n",
        "    if data['COG']>=202.5 and data['COG']<247.5:\n",
        "      return 'SW'\n",
        "    if data['COG']>=247.5 and data['COG']<292.5:\n",
        "      return 'W'\n",
        "    if data['COG']>=292.5 and data['COG']<337.5:\n",
        "      return 'NW'\n",
        "    if data['COG']>=337.5:\n",
        "      return 'N'\n",
        "  data['COG_direction'] = data.apply(lambda data: categorize(data), axis=1)"
      ],
      "metadata": {
        "id": "gKIgW-2i-ZOr"
      },
      "execution_count": 56,
      "outputs": []
    },
    {
      "cell_type": "code",
      "source": [
        "def haversine(lat1, lon1, lat2, lon2, to_radians=True, earth_radius=6371000):\n",
        "  if to_radians:\n",
        "    lat1, lon1, lat2, lon2 = np.radians([lat1, lon1, lat2, lon2])\n",
        "  a = np.sin((lat2-lat1)/2.0)**2 + np.cos(lat1) * np.cos(lat2) * np.sin((lon2-lon1)/2.0)**2\n",
        "  return earth_radius * 2 * np.arcsin(np.sqrt(a))"
      ],
      "metadata": {
        "id": "PYkUTp5O-bWT"
      },
      "execution_count": 57,
      "outputs": []
    },
    {
      "cell_type": "code",
      "source": [
        "def apply_haversine(data):\n",
        "  data= data.sort_values(['MMSI', 'BaseDateTime'], ascending = True)\n",
        "  data['distance'] = np.concatenate(data.groupby('MMSI').apply(lambda x: haversine(x['LAT'], x['LON'], x['LAT'].shift(), x['LON'].shift())).values)\n",
        "  data['distance'] = data['distance'].fillna(0)\n",
        "  data['dist_diff'] = data['distance'].diff()\n",
        "  indexNames = data[ data['dist_diff'] <= 500 ].index # Get names of indexes for which column dist_diff has value less than or equal to 1\n",
        "  data.drop(indexNames , inplace=True) # Delete these row indexes from dataFrame\n",
        "  data['dist_diff'] = data['dist_diff'].fillna(0)"
      ],
      "metadata": {
        "id": "_dDEmGiE-hVg"
      },
      "execution_count": 58,
      "outputs": []
    },
    {
      "cell_type": "code",
      "source": [
        "def geohash(data):\n",
        "  data['geohash']=data.apply(lambda x: gh.encode(x.LAT, x.LON, precision=5), axis=1)"
      ],
      "metadata": {
        "id": "TbUieRhj-kyA"
      },
      "execution_count": 59,
      "outputs": []
    },
    {
      "cell_type": "code",
      "source": [
        "def Eda(data):\n",
        "  drop_missing_values(data)\n",
        "  drop_unwanted_columns(data)\n",
        "  drop_invalid_mmsi(data)\n",
        "  zero_sog(data)\n",
        "  vesseltype_categories(data)\n",
        "  geohash(data)\n",
        "  course_direction(data)\n",
        "  apply_haversine(data)\n",
        "  print(data)\n",
        "\n",
        "\n",
        "def readFiles():  \n",
        "  length = len(my_list)\n",
        "  for i in range(length):\n",
        "    Eda(my_list[i])\n",
        "readFiles()\n",
        "\n",
        "#def readFiles():\n",
        " # length = len(my_list)\n",
        " # i = 0\n",
        "  #while i < length:\n",
        "     #Eda(my_list[i])    \n",
        "  #i = i+1\n",
        "#readFiles()"
      ],
      "metadata": {
        "colab": {
          "base_uri": "https://localhost:8080/"
        },
        "id": "lV6C9nUH-q8_",
        "outputId": "b19ad313-34f4-49e3-d36a-e3626611fab7"
      },
      "execution_count": 60,
      "outputs": [
        {
          "output_type": "stream",
          "name": "stdout",
          "text": [
            "        MMSI         BaseDateTime       LAT       LON   SOG  COG VesselType  \\\n",
            "0  209729000  2021-09-30T00:04:24  27.90300 -82.43881  11.6  182      Cargo   \n",
            "1  209729000  2021-09-30T00:03:20  27.90617 -82.43917   9.7  162      Cargo   \n",
            "2  209729000  2021-09-30T00:05:30  27.89917 -82.43931  12.8  187      Cargo   \n",
            "3  209729000  2021-09-30T00:06:41  27.89494 -82.43987  13.2  187      Cargo   \n",
            "4  209729000  2021-09-30T00:07:51  27.89064 -82.44032  13.3  184      Cargo   \n",
            "5  209729000  2021-09-30T00:09:00  27.88630 -82.44056  13.4  182      Cargo   \n",
            "6  209729000  2021-09-30T00:10:10  27.88196 -82.44080  13.3  184      Cargo   \n",
            "\n",
            "   VesselType_labeled geohash COG_direction  \n",
            "0                   0   dhvqs             S  \n",
            "1                   0   dhvqu             S  \n",
            "2                   0   dhvqs             S  \n",
            "3                   0   dhvqs             S  \n",
            "4                   0   dhvqs             S  \n",
            "5                   0   dhvqs             S  \n",
            "6                   0   dhvqs             S  \n",
            "        MMSI         BaseDateTime       LAT       LON   SOG  COG VesselType  \\\n",
            "0  209729000  2021-09-30T00:11:21  27.87764 -82.44129  13.4  187      Cargo   \n",
            "1  209729000  2021-09-30T00:12:30  27.87336 -82.44188  13.4  187      Cargo   \n",
            "2  209729000  2021-09-30T00:13:41  27.86906 -82.44246  13.3  188      Cargo   \n",
            "3  209729000  2021-09-30T00:14:50  27.86482 -82.44311  13.3  188      Cargo   \n",
            "4  209729000  2021-09-30T00:16:01  27.86045 -82.44376  13.3  187      Cargo   \n",
            "5  209729000  2021-09-30T00:17:10  27.85630 -82.44411  13.1  182      Cargo   \n",
            "6  209729000  2021-09-30T00:18:20  27.85203 -82.44423  13.2  182      Cargo   \n",
            "\n",
            "   VesselType_labeled geohash COG_direction  \n",
            "0                   0   dhvqs             S  \n",
            "1                   0   dhvqe             S  \n",
            "2                   0   dhvqe             S  \n",
            "3                   0   dhvqe             S  \n",
            "4                   0   dhvq7             S  \n",
            "5                   0   dhvq7             S  \n",
            "6                   0   dhvq7             S  \n",
            "        MMSI         BaseDateTime       LAT       LON   SOG  COG VesselType  \\\n",
            "0  209729000  2021-09-30T00:21:50  27.83925 -82.44534  13.0  185      Cargo   \n",
            "1  209729000  2021-09-30T00:20:40  27.84340 -82.44494  13.2  185      Cargo   \n",
            "2  209729000  2021-09-30T00:23:01  27.83494 -82.44575  13.0  185      Cargo   \n",
            "3  209729000  2021-09-30T00:24:11  27.83071 -82.44615  13.0  185      Cargo   \n",
            "4  209729000  2021-09-30T00:19:31  27.84764 -82.44455  13.2  184      Cargo   \n",
            "5  209729000  2021-09-30T00:25:20  27.82653 -82.44657  13.0  185      Cargo   \n",
            "6  209729000  2021-09-30T00:26:31  27.82233 -82.44707  13.0  186      Cargo   \n",
            "\n",
            "   VesselType_labeled geohash COG_direction  \n",
            "0                   0   dhvq7             S  \n",
            "1                   0   dhvq7             S  \n",
            "2                   0   dhvq7             S  \n",
            "3                   0   dhvq7             S  \n",
            "4                   0   dhvq7             S  \n",
            "5                   0   dhvq7             S  \n",
            "6                   0   dhvq7             S  \n",
            "        MMSI         BaseDateTime       LAT       LON   SOG  COG VesselType  \\\n",
            "0  209729000  2021-09-30T00:28:44  27.81458 -82.44933  13.0  209      Cargo   \n",
            "1  209729000  2021-09-30T00:27:41  27.81805 -82.44775  13.1  193      Cargo   \n",
            "2  209729000  2021-09-30T00:29:50  27.81127 -82.45196  13.1  220      Cargo   \n",
            "3  209729000  2021-09-30T00:31:01  27.80847 -82.45558  13.1  235      Cargo   \n",
            "4  209729000  2021-09-30T00:34:31  27.80277 -82.46859  13.3  250      Cargo   \n",
            "5  209729000  2021-09-30T00:36:51  27.79970 -82.47767  13.4  249      Cargo   \n",
            "6  209729000  2021-09-30T00:38:00  27.79812 -82.48228  13.5  249      Cargo   \n",
            "\n",
            "   VesselType_labeled geohash COG_direction  \n",
            "0                   0   dhvq5            SW  \n",
            "1                   0   dhvq7             S  \n",
            "2                   0   dhvq5            SW  \n",
            "3                   0   dhvq5            SW  \n",
            "4                   0   dhvq5             W  \n",
            "5                   0   dhvq5             W  \n",
            "6                   0   dhvq5             W  \n",
            "        MMSI         BaseDateTime       LAT       LON   SOG  COG VesselType  \\\n",
            "0  209729000  2021-09-30T00:33:21  27.80428 -82.46408  13.3  246      Cargo   \n",
            "1  209729000  2021-09-30T00:32:11  27.80617 -82.45959  13.2  240      Cargo   \n",
            "2  209729000  2021-09-30T00:39:01  27.79676 -82.48627  13.5  249      Cargo   \n",
            "3  209729000  2021-09-30T00:41:20  27.79358 -82.49541  13.5  248      Cargo   \n",
            "4  209729000  2021-09-30T00:42:21  27.79221 -82.49941  13.5  249      Cargo   \n",
            "5  209729000  2021-09-30T00:40:10  27.79520 -82.49082  13.5  249      Cargo   \n",
            "6  209729000  2021-09-30T00:44:41  27.78906 -82.50863  13.6  249      Cargo   \n",
            "\n",
            "   VesselType_labeled geohash COG_direction  \n",
            "0                   0   dhvq5            SW  \n",
            "1                   0   dhvq5            SW  \n",
            "2                   0   dhvq4             W  \n",
            "3                   0   dhvq4             W  \n",
            "4                   0   dhvq4             W  \n",
            "5                   0   dhvq4             W  \n",
            "6                   0   dhvq4             W  \n",
            "        MMSI         BaseDateTime       LAT       LON   SOG  COG VesselType  \\\n",
            "0  209729000  2021-09-30T00:33:21  27.80428 -82.46408  13.3  246      Cargo   \n",
            "1  209729000  2021-09-30T00:32:11  27.80617 -82.45959  13.2  240      Cargo   \n",
            "2  209729000  2021-09-30T00:39:01  27.79676 -82.48627  13.5  249      Cargo   \n",
            "3  209729000  2021-09-30T00:41:20  27.79358 -82.49541  13.5  248      Cargo   \n",
            "4  209729000  2021-09-30T00:42:21  27.79221 -82.49941  13.5  249      Cargo   \n",
            "5  209729000  2021-09-30T00:40:10  27.79520 -82.49082  13.5  249      Cargo   \n",
            "6  209729000  2021-09-30T00:44:41  27.78906 -82.50863  13.6  249      Cargo   \n",
            "\n",
            "   VesselType_labeled geohash COG_direction  \n",
            "0                   0   dhvq5            SW  \n",
            "1                   0   dhvq5            SW  \n",
            "2                   0   dhvq4             W  \n",
            "3                   0   dhvq4             W  \n",
            "4                   0   dhvq4             W  \n",
            "5                   0   dhvq4             W  \n",
            "6                   0   dhvq4             W  \n",
            "        MMSI         BaseDateTime       LAT       LON   SOG  COG VesselType  \\\n",
            "0  209729000  2021-09-30T00:51:31  27.77118 -82.52303  12.9  180      Cargo   \n",
            "1  209729000  2021-09-30T00:56:21  27.75374 -82.52413  13.0  198      Cargo   \n",
            "2  209729000  2021-09-30T00:35:40  27.80131 -82.47307  13.3  249      Cargo   \n",
            "3  209729000  2021-09-30T01:00:01  27.74131 -82.52868  12.9  197      Cargo   \n",
            "4  209729000  2021-09-30T00:52:50  27.76644 -82.52305  13.0  180      Cargo   \n",
            "5  209729000  2021-09-30T00:58:41  27.74581 -82.52707  13.0  198      Cargo   \n",
            "6  209729000  2021-09-30T00:54:01  27.76212 -82.52299  13.0  180      Cargo   \n",
            "\n",
            "   VesselType_labeled geohash COG_direction  \n",
            "0                   0   dhvmf             S  \n",
            "1                   0   dhvmf             S  \n",
            "2                   0   dhvq5             W  \n",
            "3                   0   dhvmf             S  \n",
            "4                   0   dhvmf             S  \n",
            "5                   0   dhvmf             S  \n",
            "6                   0   dhvmf             S  \n"
          ]
        }
      ]
    },
    {
      "cell_type": "code",
      "source": [
        "import os\n",
        "dir_name = '/content/drive/MyDrive/zip1/csv'\n",
        "\n",
        "extension = \".csv\"\n",
        "\n",
        "folderpath = \"/content/drive/MyDrive/zip1/csv/backup\"\n",
        "os.mkdir(folderpath)\n",
        "for i, df in enumerate(my_list, 23):\n",
        "    filename = \"AIS_2022_01_{}.csv\".format(i)\n",
        "    filepath = os.path.join(folderpath, filename)\n",
        "    df.to_csv(filepath)\n",
        "    #os.chdir('/content/drive/MyDrive/zip/csv1') # change directory from working dir to dir with files\n",
        "\n",
        "    #for item in os.listdir(dir_name): \n",
        "     # if item.endswith(extension): \n",
        "         # file_name = os.path.abspath(item)\n",
        "   # os.remove(file_name)\n"
      ],
      "metadata": {
        "id": "m3F5RKplBRI3"
      },
      "execution_count": 61,
      "outputs": []
    },
    {
      "cell_type": "code",
      "source": [
        "new_file_list = glob.glob('/content/drive/MyDrive/zip1/csv/backup/*.csv')\n",
        "print(new_file_list)"
      ],
      "metadata": {
        "colab": {
          "base_uri": "https://localhost:8080/"
        },
        "id": "qPMHJe8J0Nyv",
        "outputId": "5f91d93e-84ac-427e-fbc4-fa5776d7287f"
      },
      "execution_count": 62,
      "outputs": [
        {
          "output_type": "stream",
          "name": "stdout",
          "text": [
            "['/content/drive/MyDrive/zip1/csv/backup/AIS_2022_01_23.csv', '/content/drive/MyDrive/zip1/csv/backup/AIS_2022_01_24.csv', '/content/drive/MyDrive/zip1/csv/backup/AIS_2022_01_25.csv', '/content/drive/MyDrive/zip1/csv/backup/AIS_2022_01_26.csv', '/content/drive/MyDrive/zip1/csv/backup/AIS_2022_01_27.csv', '/content/drive/MyDrive/zip1/csv/backup/AIS_2022_01_28.csv', '/content/drive/MyDrive/zip1/csv/backup/AIS_2022_01_29.csv']\n"
          ]
        }
      ]
    },
    {
      "cell_type": "code",
      "source": [
        "df_list = (pd.read_csv(file) for file in new_file_list)"
      ],
      "metadata": {
        "id": "PG34mIzI0l8l"
      },
      "execution_count": 63,
      "outputs": []
    },
    {
      "cell_type": "code",
      "source": [
        "big_df = pd.concat(map(pd.read_csv, glob.glob( '/content/drive/MyDrive/zip1/csv/backup/*.csv')))"
      ],
      "metadata": {
        "id": "GfZ1hT8Y1A4v"
      },
      "execution_count": 65,
      "outputs": []
    },
    {
      "cell_type": "code",
      "source": [
        "print(big_df)"
      ],
      "metadata": {
        "colab": {
          "base_uri": "https://localhost:8080/"
        },
        "id": "cH450lSp0zuJ",
        "outputId": "c07ab4b9-9316-46ad-8f25-ed4b039ac668"
      },
      "execution_count": 66,
      "outputs": [
        {
          "output_type": "stream",
          "name": "stdout",
          "text": [
            "   Unnamed: 0       MMSI         BaseDateTime       LAT       LON   SOG  COG  \\\n",
            "0           0  209729000  2021-09-30T00:04:24  27.90300 -82.43881  11.6  182   \n",
            "1           1  209729000  2021-09-30T00:03:20  27.90617 -82.43917   9.7  162   \n",
            "2           2  209729000  2021-09-30T00:05:30  27.89917 -82.43931  12.8  187   \n",
            "3           3  209729000  2021-09-30T00:06:41  27.89494 -82.43987  13.2  187   \n",
            "4           4  209729000  2021-09-30T00:07:51  27.89064 -82.44032  13.3  184   \n",
            "5           5  209729000  2021-09-30T00:09:00  27.88630 -82.44056  13.4  182   \n",
            "6           6  209729000  2021-09-30T00:10:10  27.88196 -82.44080  13.3  184   \n",
            "0           0  209729000  2021-09-30T00:11:21  27.87764 -82.44129  13.4  187   \n",
            "1           1  209729000  2021-09-30T00:12:30  27.87336 -82.44188  13.4  187   \n",
            "2           2  209729000  2021-09-30T00:13:41  27.86906 -82.44246  13.3  188   \n",
            "3           3  209729000  2021-09-30T00:14:50  27.86482 -82.44311  13.3  188   \n",
            "4           4  209729000  2021-09-30T00:16:01  27.86045 -82.44376  13.3  187   \n",
            "5           5  209729000  2021-09-30T00:17:10  27.85630 -82.44411  13.1  182   \n",
            "6           6  209729000  2021-09-30T00:18:20  27.85203 -82.44423  13.2  182   \n",
            "0           0  209729000  2021-09-30T00:21:50  27.83925 -82.44534  13.0  185   \n",
            "1           1  209729000  2021-09-30T00:20:40  27.84340 -82.44494  13.2  185   \n",
            "2           2  209729000  2021-09-30T00:23:01  27.83494 -82.44575  13.0  185   \n",
            "3           3  209729000  2021-09-30T00:24:11  27.83071 -82.44615  13.0  185   \n",
            "4           4  209729000  2021-09-30T00:19:31  27.84764 -82.44455  13.2  184   \n",
            "5           5  209729000  2021-09-30T00:25:20  27.82653 -82.44657  13.0  185   \n",
            "6           6  209729000  2021-09-30T00:26:31  27.82233 -82.44707  13.0  186   \n",
            "0           0  209729000  2021-09-30T00:28:44  27.81458 -82.44933  13.0  209   \n",
            "1           1  209729000  2021-09-30T00:27:41  27.81805 -82.44775  13.1  193   \n",
            "2           2  209729000  2021-09-30T00:29:50  27.81127 -82.45196  13.1  220   \n",
            "3           3  209729000  2021-09-30T00:31:01  27.80847 -82.45558  13.1  235   \n",
            "4           4  209729000  2021-09-30T00:34:31  27.80277 -82.46859  13.3  250   \n",
            "5           5  209729000  2021-09-30T00:36:51  27.79970 -82.47767  13.4  249   \n",
            "6           6  209729000  2021-09-30T00:38:00  27.79812 -82.48228  13.5  249   \n",
            "0           0  209729000  2021-09-30T00:33:21  27.80428 -82.46408  13.3  246   \n",
            "1           1  209729000  2021-09-30T00:32:11  27.80617 -82.45959  13.2  240   \n",
            "2           2  209729000  2021-09-30T00:39:01  27.79676 -82.48627  13.5  249   \n",
            "3           3  209729000  2021-09-30T00:41:20  27.79358 -82.49541  13.5  248   \n",
            "4           4  209729000  2021-09-30T00:42:21  27.79221 -82.49941  13.5  249   \n",
            "5           5  209729000  2021-09-30T00:40:10  27.79520 -82.49082  13.5  249   \n",
            "6           6  209729000  2021-09-30T00:44:41  27.78906 -82.50863  13.6  249   \n",
            "0           0  209729000  2021-09-30T00:33:21  27.80428 -82.46408  13.3  246   \n",
            "1           1  209729000  2021-09-30T00:32:11  27.80617 -82.45959  13.2  240   \n",
            "2           2  209729000  2021-09-30T00:39:01  27.79676 -82.48627  13.5  249   \n",
            "3           3  209729000  2021-09-30T00:41:20  27.79358 -82.49541  13.5  248   \n",
            "4           4  209729000  2021-09-30T00:42:21  27.79221 -82.49941  13.5  249   \n",
            "5           5  209729000  2021-09-30T00:40:10  27.79520 -82.49082  13.5  249   \n",
            "6           6  209729000  2021-09-30T00:44:41  27.78906 -82.50863  13.6  249   \n",
            "0           0  209729000  2021-09-30T00:51:31  27.77118 -82.52303  12.9  180   \n",
            "1           1  209729000  2021-09-30T00:56:21  27.75374 -82.52413  13.0  198   \n",
            "2           2  209729000  2021-09-30T00:35:40  27.80131 -82.47307  13.3  249   \n",
            "3           3  209729000  2021-09-30T01:00:01  27.74131 -82.52868  12.9  197   \n",
            "4           4  209729000  2021-09-30T00:52:50  27.76644 -82.52305  13.0  180   \n",
            "5           5  209729000  2021-09-30T00:58:41  27.74581 -82.52707  13.0  198   \n",
            "6           6  209729000  2021-09-30T00:54:01  27.76212 -82.52299  13.0  180   \n",
            "\n",
            "  VesselType  VesselType_labeled geohash COG_direction  \n",
            "0      Cargo                   0   dhvqs             S  \n",
            "1      Cargo                   0   dhvqu             S  \n",
            "2      Cargo                   0   dhvqs             S  \n",
            "3      Cargo                   0   dhvqs             S  \n",
            "4      Cargo                   0   dhvqs             S  \n",
            "5      Cargo                   0   dhvqs             S  \n",
            "6      Cargo                   0   dhvqs             S  \n",
            "0      Cargo                   0   dhvqs             S  \n",
            "1      Cargo                   0   dhvqe             S  \n",
            "2      Cargo                   0   dhvqe             S  \n",
            "3      Cargo                   0   dhvqe             S  \n",
            "4      Cargo                   0   dhvq7             S  \n",
            "5      Cargo                   0   dhvq7             S  \n",
            "6      Cargo                   0   dhvq7             S  \n",
            "0      Cargo                   0   dhvq7             S  \n",
            "1      Cargo                   0   dhvq7             S  \n",
            "2      Cargo                   0   dhvq7             S  \n",
            "3      Cargo                   0   dhvq7             S  \n",
            "4      Cargo                   0   dhvq7             S  \n",
            "5      Cargo                   0   dhvq7             S  \n",
            "6      Cargo                   0   dhvq7             S  \n",
            "0      Cargo                   0   dhvq5            SW  \n",
            "1      Cargo                   0   dhvq7             S  \n",
            "2      Cargo                   0   dhvq5            SW  \n",
            "3      Cargo                   0   dhvq5            SW  \n",
            "4      Cargo                   0   dhvq5             W  \n",
            "5      Cargo                   0   dhvq5             W  \n",
            "6      Cargo                   0   dhvq5             W  \n",
            "0      Cargo                   0   dhvq5            SW  \n",
            "1      Cargo                   0   dhvq5            SW  \n",
            "2      Cargo                   0   dhvq4             W  \n",
            "3      Cargo                   0   dhvq4             W  \n",
            "4      Cargo                   0   dhvq4             W  \n",
            "5      Cargo                   0   dhvq4             W  \n",
            "6      Cargo                   0   dhvq4             W  \n",
            "0      Cargo                   0   dhvq5            SW  \n",
            "1      Cargo                   0   dhvq5            SW  \n",
            "2      Cargo                   0   dhvq4             W  \n",
            "3      Cargo                   0   dhvq4             W  \n",
            "4      Cargo                   0   dhvq4             W  \n",
            "5      Cargo                   0   dhvq4             W  \n",
            "6      Cargo                   0   dhvq4             W  \n",
            "0      Cargo                   0   dhvmf             S  \n",
            "1      Cargo                   0   dhvmf             S  \n",
            "2      Cargo                   0   dhvq5             W  \n",
            "3      Cargo                   0   dhvmf             S  \n",
            "4      Cargo                   0   dhvmf             S  \n",
            "5      Cargo                   0   dhvmf             S  \n",
            "6      Cargo                   0   dhvmf             S  \n"
          ]
        }
      ]
    },
    {
      "cell_type": "code",
      "source": [
        "big_df.shape"
      ],
      "metadata": {
        "colab": {
          "base_uri": "https://localhost:8080/"
        },
        "id": "g25JqSVS1b-y",
        "outputId": "e11a80f2-efe9-4720-fec0-8c80ac551bc1"
      },
      "execution_count": 67,
      "outputs": [
        {
          "output_type": "execute_result",
          "data": {
            "text/plain": [
              "(49, 11)"
            ]
          },
          "metadata": {},
          "execution_count": 67
        }
      ]
    },
    {
      "cell_type": "code",
      "source": [
        "grouped_big_df = big_df.groupby(['geohash', 'VesselType', 'SOG']).agg({'VesselType':'count'})\n",
        "grouped_big_df.columns = ['count']\n",
        "grouped_big_df = grouped_big_df.reset_index()\n",
        "grouped_big_df.head(100)"
      ],
      "metadata": {
        "colab": {
          "base_uri": "https://localhost:8080/",
          "height": 739
        },
        "id": "fakNsgYE1yzB",
        "outputId": "d1f1ab31-ce76-492b-b164-abc5d4586251"
      },
      "execution_count": 68,
      "outputs": [
        {
          "output_type": "execute_result",
          "data": {
            "text/plain": [
              "   geohash VesselType   SOG  count\n",
              "0    dhvmf      Cargo  12.9      2\n",
              "1    dhvmf      Cargo  13.0      4\n",
              "2    dhvq4      Cargo  13.5      8\n",
              "3    dhvq4      Cargo  13.6      2\n",
              "4    dhvq5      Cargo  13.0      1\n",
              "5    dhvq5      Cargo  13.1      2\n",
              "6    dhvq5      Cargo  13.2      2\n",
              "7    dhvq5      Cargo  13.3      4\n",
              "8    dhvq5      Cargo  13.4      1\n",
              "9    dhvq5      Cargo  13.5      1\n",
              "10   dhvq7      Cargo  13.0      5\n",
              "11   dhvq7      Cargo  13.1      2\n",
              "12   dhvq7      Cargo  13.2      3\n",
              "13   dhvq7      Cargo  13.3      1\n",
              "14   dhvqe      Cargo  13.3      2\n",
              "15   dhvqe      Cargo  13.4      1\n",
              "16   dhvqs      Cargo  11.6      1\n",
              "17   dhvqs      Cargo  12.8      1\n",
              "18   dhvqs      Cargo  13.2      1\n",
              "19   dhvqs      Cargo  13.3      2\n",
              "20   dhvqs      Cargo  13.4      2\n",
              "21   dhvqu      Cargo   9.7      1"
            ],
            "text/html": [
              "\n",
              "  <div id=\"df-af363aa2-9e9e-456c-8637-7ea8c29308c8\">\n",
              "    <div class=\"colab-df-container\">\n",
              "      <div>\n",
              "<style scoped>\n",
              "    .dataframe tbody tr th:only-of-type {\n",
              "        vertical-align: middle;\n",
              "    }\n",
              "\n",
              "    .dataframe tbody tr th {\n",
              "        vertical-align: top;\n",
              "    }\n",
              "\n",
              "    .dataframe thead th {\n",
              "        text-align: right;\n",
              "    }\n",
              "</style>\n",
              "<table border=\"1\" class=\"dataframe\">\n",
              "  <thead>\n",
              "    <tr style=\"text-align: right;\">\n",
              "      <th></th>\n",
              "      <th>geohash</th>\n",
              "      <th>VesselType</th>\n",
              "      <th>SOG</th>\n",
              "      <th>count</th>\n",
              "    </tr>\n",
              "  </thead>\n",
              "  <tbody>\n",
              "    <tr>\n",
              "      <th>0</th>\n",
              "      <td>dhvmf</td>\n",
              "      <td>Cargo</td>\n",
              "      <td>12.9</td>\n",
              "      <td>2</td>\n",
              "    </tr>\n",
              "    <tr>\n",
              "      <th>1</th>\n",
              "      <td>dhvmf</td>\n",
              "      <td>Cargo</td>\n",
              "      <td>13.0</td>\n",
              "      <td>4</td>\n",
              "    </tr>\n",
              "    <tr>\n",
              "      <th>2</th>\n",
              "      <td>dhvq4</td>\n",
              "      <td>Cargo</td>\n",
              "      <td>13.5</td>\n",
              "      <td>8</td>\n",
              "    </tr>\n",
              "    <tr>\n",
              "      <th>3</th>\n",
              "      <td>dhvq4</td>\n",
              "      <td>Cargo</td>\n",
              "      <td>13.6</td>\n",
              "      <td>2</td>\n",
              "    </tr>\n",
              "    <tr>\n",
              "      <th>4</th>\n",
              "      <td>dhvq5</td>\n",
              "      <td>Cargo</td>\n",
              "      <td>13.0</td>\n",
              "      <td>1</td>\n",
              "    </tr>\n",
              "    <tr>\n",
              "      <th>5</th>\n",
              "      <td>dhvq5</td>\n",
              "      <td>Cargo</td>\n",
              "      <td>13.1</td>\n",
              "      <td>2</td>\n",
              "    </tr>\n",
              "    <tr>\n",
              "      <th>6</th>\n",
              "      <td>dhvq5</td>\n",
              "      <td>Cargo</td>\n",
              "      <td>13.2</td>\n",
              "      <td>2</td>\n",
              "    </tr>\n",
              "    <tr>\n",
              "      <th>7</th>\n",
              "      <td>dhvq5</td>\n",
              "      <td>Cargo</td>\n",
              "      <td>13.3</td>\n",
              "      <td>4</td>\n",
              "    </tr>\n",
              "    <tr>\n",
              "      <th>8</th>\n",
              "      <td>dhvq5</td>\n",
              "      <td>Cargo</td>\n",
              "      <td>13.4</td>\n",
              "      <td>1</td>\n",
              "    </tr>\n",
              "    <tr>\n",
              "      <th>9</th>\n",
              "      <td>dhvq5</td>\n",
              "      <td>Cargo</td>\n",
              "      <td>13.5</td>\n",
              "      <td>1</td>\n",
              "    </tr>\n",
              "    <tr>\n",
              "      <th>10</th>\n",
              "      <td>dhvq7</td>\n",
              "      <td>Cargo</td>\n",
              "      <td>13.0</td>\n",
              "      <td>5</td>\n",
              "    </tr>\n",
              "    <tr>\n",
              "      <th>11</th>\n",
              "      <td>dhvq7</td>\n",
              "      <td>Cargo</td>\n",
              "      <td>13.1</td>\n",
              "      <td>2</td>\n",
              "    </tr>\n",
              "    <tr>\n",
              "      <th>12</th>\n",
              "      <td>dhvq7</td>\n",
              "      <td>Cargo</td>\n",
              "      <td>13.2</td>\n",
              "      <td>3</td>\n",
              "    </tr>\n",
              "    <tr>\n",
              "      <th>13</th>\n",
              "      <td>dhvq7</td>\n",
              "      <td>Cargo</td>\n",
              "      <td>13.3</td>\n",
              "      <td>1</td>\n",
              "    </tr>\n",
              "    <tr>\n",
              "      <th>14</th>\n",
              "      <td>dhvqe</td>\n",
              "      <td>Cargo</td>\n",
              "      <td>13.3</td>\n",
              "      <td>2</td>\n",
              "    </tr>\n",
              "    <tr>\n",
              "      <th>15</th>\n",
              "      <td>dhvqe</td>\n",
              "      <td>Cargo</td>\n",
              "      <td>13.4</td>\n",
              "      <td>1</td>\n",
              "    </tr>\n",
              "    <tr>\n",
              "      <th>16</th>\n",
              "      <td>dhvqs</td>\n",
              "      <td>Cargo</td>\n",
              "      <td>11.6</td>\n",
              "      <td>1</td>\n",
              "    </tr>\n",
              "    <tr>\n",
              "      <th>17</th>\n",
              "      <td>dhvqs</td>\n",
              "      <td>Cargo</td>\n",
              "      <td>12.8</td>\n",
              "      <td>1</td>\n",
              "    </tr>\n",
              "    <tr>\n",
              "      <th>18</th>\n",
              "      <td>dhvqs</td>\n",
              "      <td>Cargo</td>\n",
              "      <td>13.2</td>\n",
              "      <td>1</td>\n",
              "    </tr>\n",
              "    <tr>\n",
              "      <th>19</th>\n",
              "      <td>dhvqs</td>\n",
              "      <td>Cargo</td>\n",
              "      <td>13.3</td>\n",
              "      <td>2</td>\n",
              "    </tr>\n",
              "    <tr>\n",
              "      <th>20</th>\n",
              "      <td>dhvqs</td>\n",
              "      <td>Cargo</td>\n",
              "      <td>13.4</td>\n",
              "      <td>2</td>\n",
              "    </tr>\n",
              "    <tr>\n",
              "      <th>21</th>\n",
              "      <td>dhvqu</td>\n",
              "      <td>Cargo</td>\n",
              "      <td>9.7</td>\n",
              "      <td>1</td>\n",
              "    </tr>\n",
              "  </tbody>\n",
              "</table>\n",
              "</div>\n",
              "      <button class=\"colab-df-convert\" onclick=\"convertToInteractive('df-af363aa2-9e9e-456c-8637-7ea8c29308c8')\"\n",
              "              title=\"Convert this dataframe to an interactive table.\"\n",
              "              style=\"display:none;\">\n",
              "        \n",
              "  <svg xmlns=\"http://www.w3.org/2000/svg\" height=\"24px\"viewBox=\"0 0 24 24\"\n",
              "       width=\"24px\">\n",
              "    <path d=\"M0 0h24v24H0V0z\" fill=\"none\"/>\n",
              "    <path d=\"M18.56 5.44l.94 2.06.94-2.06 2.06-.94-2.06-.94-.94-2.06-.94 2.06-2.06.94zm-11 1L8.5 8.5l.94-2.06 2.06-.94-2.06-.94L8.5 2.5l-.94 2.06-2.06.94zm10 10l.94 2.06.94-2.06 2.06-.94-2.06-.94-.94-2.06-.94 2.06-2.06.94z\"/><path d=\"M17.41 7.96l-1.37-1.37c-.4-.4-.92-.59-1.43-.59-.52 0-1.04.2-1.43.59L10.3 9.45l-7.72 7.72c-.78.78-.78 2.05 0 2.83L4 21.41c.39.39.9.59 1.41.59.51 0 1.02-.2 1.41-.59l7.78-7.78 2.81-2.81c.8-.78.8-2.07 0-2.86zM5.41 20L4 18.59l7.72-7.72 1.47 1.35L5.41 20z\"/>\n",
              "  </svg>\n",
              "      </button>\n",
              "      \n",
              "  <style>\n",
              "    .colab-df-container {\n",
              "      display:flex;\n",
              "      flex-wrap:wrap;\n",
              "      gap: 12px;\n",
              "    }\n",
              "\n",
              "    .colab-df-convert {\n",
              "      background-color: #E8F0FE;\n",
              "      border: none;\n",
              "      border-radius: 50%;\n",
              "      cursor: pointer;\n",
              "      display: none;\n",
              "      fill: #1967D2;\n",
              "      height: 32px;\n",
              "      padding: 0 0 0 0;\n",
              "      width: 32px;\n",
              "    }\n",
              "\n",
              "    .colab-df-convert:hover {\n",
              "      background-color: #E2EBFA;\n",
              "      box-shadow: 0px 1px 2px rgba(60, 64, 67, 0.3), 0px 1px 3px 1px rgba(60, 64, 67, 0.15);\n",
              "      fill: #174EA6;\n",
              "    }\n",
              "\n",
              "    [theme=dark] .colab-df-convert {\n",
              "      background-color: #3B4455;\n",
              "      fill: #D2E3FC;\n",
              "    }\n",
              "\n",
              "    [theme=dark] .colab-df-convert:hover {\n",
              "      background-color: #434B5C;\n",
              "      box-shadow: 0px 1px 3px 1px rgba(0, 0, 0, 0.15);\n",
              "      filter: drop-shadow(0px 1px 2px rgba(0, 0, 0, 0.3));\n",
              "      fill: #FFFFFF;\n",
              "    }\n",
              "  </style>\n",
              "\n",
              "      <script>\n",
              "        const buttonEl =\n",
              "          document.querySelector('#df-af363aa2-9e9e-456c-8637-7ea8c29308c8 button.colab-df-convert');\n",
              "        buttonEl.style.display =\n",
              "          google.colab.kernel.accessAllowed ? 'block' : 'none';\n",
              "\n",
              "        async function convertToInteractive(key) {\n",
              "          const element = document.querySelector('#df-af363aa2-9e9e-456c-8637-7ea8c29308c8');\n",
              "          const dataTable =\n",
              "            await google.colab.kernel.invokeFunction('convertToInteractive',\n",
              "                                                     [key], {});\n",
              "          if (!dataTable) return;\n",
              "\n",
              "          const docLinkHtml = 'Like what you see? Visit the ' +\n",
              "            '<a target=\"_blank\" href=https://colab.research.google.com/notebooks/data_table.ipynb>data table notebook</a>'\n",
              "            + ' to learn more about interactive tables.';\n",
              "          element.innerHTML = '';\n",
              "          dataTable['output_type'] = 'display_data';\n",
              "          await google.colab.output.renderOutput(dataTable, element);\n",
              "          const docLink = document.createElement('div');\n",
              "          docLink.innerHTML = docLinkHtml;\n",
              "          element.appendChild(docLink);\n",
              "        }\n",
              "      </script>\n",
              "    </div>\n",
              "  </div>\n",
              "  "
            ]
          },
          "metadata": {},
          "execution_count": 68
        }
      ]
    },
    {
      "cell_type": "code",
      "source": [
        "def my_agg(x):\n",
        "  names = {'weighted_average_SOG': (x['count']*x['SOG']).sum()/x['count'].sum()}\n",
        "  return pd.Series(names, index=['weighted_average_SOG'])"
      ],
      "metadata": {
        "id": "IfXqPDO42FMu"
      },
      "execution_count": 69,
      "outputs": []
    },
    {
      "cell_type": "code",
      "source": [
        "grouped_big_df.groupby(['geohash', 'VesselType']).apply(my_agg)"
      ],
      "metadata": {
        "colab": {
          "base_uri": "https://localhost:8080/",
          "height": 300
        },
        "id": "cxvK1PrH2IHj",
        "outputId": "4783b9c3-3465-435c-fd7f-61c435e13262"
      },
      "execution_count": 70,
      "outputs": [
        {
          "output_type": "execute_result",
          "data": {
            "text/plain": [
              "                    weighted_average_SOG\n",
              "geohash VesselType                      \n",
              "dhvmf   Cargo                  12.966667\n",
              "dhvq4   Cargo                  13.520000\n",
              "dhvq5   Cargo                  13.245455\n",
              "dhvq7   Cargo                  13.100000\n",
              "dhvqe   Cargo                  13.333333\n",
              "dhvqs   Cargo                  13.000000\n",
              "dhvqu   Cargo                   9.700000"
            ],
            "text/html": [
              "\n",
              "  <div id=\"df-e71bcd78-5859-46b7-9997-681a49de2e10\">\n",
              "    <div class=\"colab-df-container\">\n",
              "      <div>\n",
              "<style scoped>\n",
              "    .dataframe tbody tr th:only-of-type {\n",
              "        vertical-align: middle;\n",
              "    }\n",
              "\n",
              "    .dataframe tbody tr th {\n",
              "        vertical-align: top;\n",
              "    }\n",
              "\n",
              "    .dataframe thead th {\n",
              "        text-align: right;\n",
              "    }\n",
              "</style>\n",
              "<table border=\"1\" class=\"dataframe\">\n",
              "  <thead>\n",
              "    <tr style=\"text-align: right;\">\n",
              "      <th></th>\n",
              "      <th></th>\n",
              "      <th>weighted_average_SOG</th>\n",
              "    </tr>\n",
              "    <tr>\n",
              "      <th>geohash</th>\n",
              "      <th>VesselType</th>\n",
              "      <th></th>\n",
              "    </tr>\n",
              "  </thead>\n",
              "  <tbody>\n",
              "    <tr>\n",
              "      <th>dhvmf</th>\n",
              "      <th>Cargo</th>\n",
              "      <td>12.966667</td>\n",
              "    </tr>\n",
              "    <tr>\n",
              "      <th>dhvq4</th>\n",
              "      <th>Cargo</th>\n",
              "      <td>13.520000</td>\n",
              "    </tr>\n",
              "    <tr>\n",
              "      <th>dhvq5</th>\n",
              "      <th>Cargo</th>\n",
              "      <td>13.245455</td>\n",
              "    </tr>\n",
              "    <tr>\n",
              "      <th>dhvq7</th>\n",
              "      <th>Cargo</th>\n",
              "      <td>13.100000</td>\n",
              "    </tr>\n",
              "    <tr>\n",
              "      <th>dhvqe</th>\n",
              "      <th>Cargo</th>\n",
              "      <td>13.333333</td>\n",
              "    </tr>\n",
              "    <tr>\n",
              "      <th>dhvqs</th>\n",
              "      <th>Cargo</th>\n",
              "      <td>13.000000</td>\n",
              "    </tr>\n",
              "    <tr>\n",
              "      <th>dhvqu</th>\n",
              "      <th>Cargo</th>\n",
              "      <td>9.700000</td>\n",
              "    </tr>\n",
              "  </tbody>\n",
              "</table>\n",
              "</div>\n",
              "      <button class=\"colab-df-convert\" onclick=\"convertToInteractive('df-e71bcd78-5859-46b7-9997-681a49de2e10')\"\n",
              "              title=\"Convert this dataframe to an interactive table.\"\n",
              "              style=\"display:none;\">\n",
              "        \n",
              "  <svg xmlns=\"http://www.w3.org/2000/svg\" height=\"24px\"viewBox=\"0 0 24 24\"\n",
              "       width=\"24px\">\n",
              "    <path d=\"M0 0h24v24H0V0z\" fill=\"none\"/>\n",
              "    <path d=\"M18.56 5.44l.94 2.06.94-2.06 2.06-.94-2.06-.94-.94-2.06-.94 2.06-2.06.94zm-11 1L8.5 8.5l.94-2.06 2.06-.94-2.06-.94L8.5 2.5l-.94 2.06-2.06.94zm10 10l.94 2.06.94-2.06 2.06-.94-2.06-.94-.94-2.06-.94 2.06-2.06.94z\"/><path d=\"M17.41 7.96l-1.37-1.37c-.4-.4-.92-.59-1.43-.59-.52 0-1.04.2-1.43.59L10.3 9.45l-7.72 7.72c-.78.78-.78 2.05 0 2.83L4 21.41c.39.39.9.59 1.41.59.51 0 1.02-.2 1.41-.59l7.78-7.78 2.81-2.81c.8-.78.8-2.07 0-2.86zM5.41 20L4 18.59l7.72-7.72 1.47 1.35L5.41 20z\"/>\n",
              "  </svg>\n",
              "      </button>\n",
              "      \n",
              "  <style>\n",
              "    .colab-df-container {\n",
              "      display:flex;\n",
              "      flex-wrap:wrap;\n",
              "      gap: 12px;\n",
              "    }\n",
              "\n",
              "    .colab-df-convert {\n",
              "      background-color: #E8F0FE;\n",
              "      border: none;\n",
              "      border-radius: 50%;\n",
              "      cursor: pointer;\n",
              "      display: none;\n",
              "      fill: #1967D2;\n",
              "      height: 32px;\n",
              "      padding: 0 0 0 0;\n",
              "      width: 32px;\n",
              "    }\n",
              "\n",
              "    .colab-df-convert:hover {\n",
              "      background-color: #E2EBFA;\n",
              "      box-shadow: 0px 1px 2px rgba(60, 64, 67, 0.3), 0px 1px 3px 1px rgba(60, 64, 67, 0.15);\n",
              "      fill: #174EA6;\n",
              "    }\n",
              "\n",
              "    [theme=dark] .colab-df-convert {\n",
              "      background-color: #3B4455;\n",
              "      fill: #D2E3FC;\n",
              "    }\n",
              "\n",
              "    [theme=dark] .colab-df-convert:hover {\n",
              "      background-color: #434B5C;\n",
              "      box-shadow: 0px 1px 3px 1px rgba(0, 0, 0, 0.15);\n",
              "      filter: drop-shadow(0px 1px 2px rgba(0, 0, 0, 0.3));\n",
              "      fill: #FFFFFF;\n",
              "    }\n",
              "  </style>\n",
              "\n",
              "      <script>\n",
              "        const buttonEl =\n",
              "          document.querySelector('#df-e71bcd78-5859-46b7-9997-681a49de2e10 button.colab-df-convert');\n",
              "        buttonEl.style.display =\n",
              "          google.colab.kernel.accessAllowed ? 'block' : 'none';\n",
              "\n",
              "        async function convertToInteractive(key) {\n",
              "          const element = document.querySelector('#df-e71bcd78-5859-46b7-9997-681a49de2e10');\n",
              "          const dataTable =\n",
              "            await google.colab.kernel.invokeFunction('convertToInteractive',\n",
              "                                                     [key], {});\n",
              "          if (!dataTable) return;\n",
              "\n",
              "          const docLinkHtml = 'Like what you see? Visit the ' +\n",
              "            '<a target=\"_blank\" href=https://colab.research.google.com/notebooks/data_table.ipynb>data table notebook</a>'\n",
              "            + ' to learn more about interactive tables.';\n",
              "          element.innerHTML = '';\n",
              "          dataTable['output_type'] = 'display_data';\n",
              "          await google.colab.output.renderOutput(dataTable, element);\n",
              "          const docLink = document.createElement('div');\n",
              "          docLink.innerHTML = docLinkHtml;\n",
              "          element.appendChild(docLink);\n",
              "        }\n",
              "      </script>\n",
              "    </div>\n",
              "  </div>\n",
              "  "
            ]
          },
          "metadata": {},
          "execution_count": 70
        }
      ]
    }
  ]
}